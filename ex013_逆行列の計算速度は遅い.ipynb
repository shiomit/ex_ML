{
 "cells": [
  {
   "cell_type": "markdown",
   "metadata": {},
   "source": [
    "# 目的：$\\boldsymbol{x}=\\boldsymbol{A}^{-1}\\boldsymbol{y}$を求めたい\n",
    "\n",
    "## 方法1\n",
    "$\\boldsymbol{x}=\\boldsymbol{A}^{-1}\\boldsymbol{y}$を直接計算する。（つまり逆行列を計算する。）"
   ]
  },
  {
   "cell_type": "code",
   "execution_count": 1,
   "metadata": {},
   "outputs": [],
   "source": [
    "import numpy as np\n",
    "dim = 5000\n",
    "A = np.random.rand(dim, dim)\n",
    "y = np.random.rand(dim).T"
   ]
  },
  {
   "cell_type": "code",
   "execution_count": 2,
   "metadata": {},
   "outputs": [],
   "source": [
    "import time"
   ]
  },
  {
   "cell_type": "code",
   "execution_count": 3,
   "metadata": {},
   "outputs": [
    {
     "name": "stdout",
     "output_type": "stream",
     "text": [
      "elapsed_time:6.475532293319702[sec]\n"
     ]
    }
   ],
   "source": [
    "start = time.time()\n",
    "A_inv = np.linalg.inv(A)\n",
    "x1 = np.dot(A_inv, y)\n",
    "elapsed_time = time.time() - start\n",
    "print (\"elapsed_time:{0}\".format(elapsed_time) + '[sec]')"
   ]
  },
  {
   "cell_type": "markdown",
   "metadata": {
    "collapsed": true
   },
   "source": [
    "## 方法2\n",
    "連立方程式$\\boldsymbol{A}\\boldsymbol{x}=\\boldsymbol{y}$を計算する。（逆行列を直接計算しないアルゴリズムで計算する。）"
   ]
  },
  {
   "cell_type": "code",
   "execution_count": 4,
   "metadata": {},
   "outputs": [
    {
     "name": "stdout",
     "output_type": "stream",
     "text": [
      "elapsed_time:1.4240412712097168[sec]\n"
     ]
    }
   ],
   "source": [
    "start = time.time()\n",
    "x2 = np.linalg.solve(A, y)\n",
    "elapsed_time = time.time() - start\n",
    "print (\"elapsed_time:{0}\".format(elapsed_time) + '[sec]')"
   ]
  },
  {
   "cell_type": "markdown",
   "metadata": {},
   "source": [
    "方法1と方法2の結果が同じか確認してみる。  \n",
    "ベクトルx1とベクトルx2が一致しているか？  \n",
    "ベクトル間の距離が0なら一致していると言える。"
   ]
  },
  {
   "cell_type": "code",
   "execution_count": 5,
   "metadata": {},
   "outputs": [
    {
     "data": {
      "text/plain": [
       "5.912190001968877e-11"
      ]
     },
     "execution_count": 5,
     "metadata": {},
     "output_type": "execute_result"
    }
   ],
   "source": [
    "np.linalg.norm(x1-x2)"
   ]
  }
 ],
 "metadata": {
  "kernelspec": {
   "display_name": "Python 3",
   "language": "python",
   "name": "python3"
  },
  "language_info": {
   "codemirror_mode": {
    "name": "ipython",
    "version": 3
   },
   "file_extension": ".py",
   "mimetype": "text/x-python",
   "name": "python",
   "nbconvert_exporter": "python",
   "pygments_lexer": "ipython3",
   "version": "3.8.5"
  }
 },
 "nbformat": 4,
 "nbformat_minor": 2
}
