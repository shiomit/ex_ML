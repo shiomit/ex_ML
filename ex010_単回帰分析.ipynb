{
 "cells": [
  {
   "cell_type": "code",
   "execution_count": 1,
   "metadata": {},
   "outputs": [],
   "source": [
    "import pandas as pd"
   ]
  },
  {
   "cell_type": "code",
   "execution_count": 2,
   "metadata": {},
   "outputs": [],
   "source": [
    "df = pd.read_csv('data.csv')"
   ]
  },
  {
   "cell_type": "code",
   "execution_count": 3,
   "metadata": {},
   "outputs": [
    {
     "data": {
      "text/html": [
       "<div>\n",
       "<style scoped>\n",
       "    .dataframe tbody tr th:only-of-type {\n",
       "        vertical-align: middle;\n",
       "    }\n",
       "\n",
       "    .dataframe tbody tr th {\n",
       "        vertical-align: top;\n",
       "    }\n",
       "\n",
       "    .dataframe thead th {\n",
       "        text-align: right;\n",
       "    }\n",
       "</style>\n",
       "<table border=\"1\" class=\"dataframe\">\n",
       "  <thead>\n",
       "    <tr style=\"text-align: right;\">\n",
       "      <th></th>\n",
       "      <th>x</th>\n",
       "      <th>y</th>\n",
       "    </tr>\n",
       "  </thead>\n",
       "  <tbody>\n",
       "    <tr>\n",
       "      <th>0</th>\n",
       "      <td>6.307153</td>\n",
       "      <td>5.057977</td>\n",
       "    </tr>\n",
       "    <tr>\n",
       "      <th>1</th>\n",
       "      <td>5.260484</td>\n",
       "      <td>3.395831</td>\n",
       "    </tr>\n",
       "    <tr>\n",
       "      <th>2</th>\n",
       "      <td>5.635614</td>\n",
       "      <td>4.970667</td>\n",
       "    </tr>\n",
       "    <tr>\n",
       "      <th>3</th>\n",
       "      <td>5.658738</td>\n",
       "      <td>6.512540</td>\n",
       "    </tr>\n",
       "    <tr>\n",
       "      <th>4</th>\n",
       "      <td>5.791327</td>\n",
       "      <td>6.578354</td>\n",
       "    </tr>\n",
       "  </tbody>\n",
       "</table>\n",
       "</div>"
      ],
      "text/plain": [
       "          x         y\n",
       "0  6.307153  5.057977\n",
       "1  5.260484  3.395831\n",
       "2  5.635614  4.970667\n",
       "3  5.658738  6.512540\n",
       "4  5.791327  6.578354"
      ]
     },
     "execution_count": 3,
     "metadata": {},
     "output_type": "execute_result"
    }
   ],
   "source": [
    "df.head()"
   ]
  },
  {
   "cell_type": "code",
   "execution_count": 4,
   "metadata": {},
   "outputs": [
    {
     "name": "stderr",
     "output_type": "stream",
     "text": [
      "Matplotlib is building the font cache; this may take a moment.\n"
     ]
    },
    {
     "data": {
      "image/png": "[encoded data removed]",
      "text/plain": [
       "<Figure size 432x288 with 1 Axes>"
      ]
     },
     "metadata": {
      "needs_background": "light"
     },
     "output_type": "display_data"
    }
   ],
   "source": [
    "import matplotlib.pyplot as plt\n",
    "plt.scatter(df['x'], df['y'])\n",
    "plt.show()"
   ]
  },
  {
   "cell_type": "markdown",
   "metadata": {},
   "source": [
    "# モデルを作成する\n",
    "$x, y$ 測定値、$\\hat{y}$ 予測値\n",
    "\n",
    "$\\hat{y}=ax+b$\n",
    "\n",
    "# データを中心化して簡単なモデルにする\n",
    "$x_{c}=x-\\overline{x}$\n",
    "\n",
    "$y_{c}=y-\\overline{y}$\n",
    "\n",
    "$\\hat{y_c}=ax_c$\n",
    "\n",
    "# 評価関数を決める\n",
    "\\begin{eqnarray}\n",
    "L & = & (y_1-\\hat{y}_1)^2+(y_2-\\hat{y}_2)^2+\\cdots+(y_N-\\hat{y}_N)^2 \\\\\n",
    "& = & \\sum_{n=1}^{N}(y_n-\\hat{y}_n)^2 \\\\\n",
    "& = & \\sum_{n=1}^{N}(y_n-ax_n)^2 \\\\\n",
    "& = & \\sum_{n=1}^{N}(y_n^2-2y_nax_n+a^2x_n^2) \\\\\n",
    "& = & \\sum_{n=1}^{N}(y_n^2-2x_ny_na+x_n^2a^2) \\\\\n",
    "& = & \\sum_{n=1}^{N}y_n^2-2(\\sum_{n=1}^{N}x_ny_n)a+\\sum_{n=1}^{N}(x_n^2)a^2 \\\\\n",
    "& = & C_0-2C_1a+C_2a^2\n",
    "\\end{eqnarray}\n",
    "\n",
    "\n",
    "# 評価関数を最小化する\n",
    "\\begin{eqnarray}\n",
    "&& \\frac{\\partial}{\\partial a}(L)=0 \\\\\n",
    "& \\iff & \\frac{\\partial}{\\partial a}(C_0-2C_1a+C_2a^2)=0 \\\\\n",
    "& \\iff & \\frac{\\partial}{\\partial a}(C_0)-\\frac{\\partial}{\\partial a}(2C_1a)+\\frac{\\partial}{\\partial a}(C_2a^2)=0 \\\\\n",
    "& \\iff & -2c_1\\frac{\\partial}{\\partial a}(a)+c_2\\frac{\\partial}{\\partial a}(a^2)=0 \\\\\n",
    "& \\iff & -2c_1+2c_2a=0 \\\\\n",
    "& \\iff & -c_1+c_2a=0 \\\\\n",
    "& \\iff & a = \\frac{c_1}{c_2} = \\frac{\\sum_{n=1}^{N}x_ny_n}{\\sum_{n=1}^{N}x_n^2}\n",
    "\\end{eqnarray}\n"
   ]
  },
  {
   "cell_type": "code",
   "execution_count": 5,
   "metadata": {},
   "outputs": [],
   "source": [
    "df_c = df - df.mean()\n",
    "x = df_c['x']\n",
    "y = df_c['y']\n",
    "xx = x * x\n",
    "xy = x * y\n",
    "a = xy.sum() / xx.sum()"
   ]
  },
  {
   "cell_type": "code",
   "execution_count": 6,
   "metadata": {},
   "outputs": [
    {
     "data": {
      "text/plain": [
       "0.7165508579218361"
      ]
     },
     "execution_count": 6,
     "metadata": {},
     "output_type": "execute_result"
    }
   ],
   "source": [
    "a"
   ]
  },
  {
   "cell_type": "code",
   "execution_count": 7,
   "metadata": {},
   "outputs": [
    {
     "data": {
      "image/png": "[encoded data removed]",
      "text/plain": [
       "<Figure size 432x288 with 1 Axes>"
      ]
     },
     "metadata": {
      "needs_background": "light"
     },
     "output_type": "display_data"
    }
   ],
   "source": [
    "plt.scatter(x, y, label='y')\n",
    "plt.plot(x, a*x, label='y_hat')\n",
    "plt.legend()\n",
    "plt.show()"
   ]
  }
 ],
 "metadata": {
  "kernelspec": {
   "display_name": "Python 3",
   "language": "python",
   "name": "python3"
  },
  "language_info": {
   "codemirror_mode": {
    "name": "ipython",
    "version": 3
   },
   "file_extension": ".py",
   "mimetype": "text/x-python",
   "name": "python",
   "nbconvert_exporter": "python",
   "pygments_lexer": "ipython3",
   "version": "3.8.5"
  }
 },
 "nbformat": 4,
 "nbformat_minor": 2
}
