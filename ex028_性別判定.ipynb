{
 "cells": [
  {
   "cell_type": "code",
   "execution_count": 48,
   "metadata": {},
   "outputs": [],
   "source": [
    "import pandas as pd\n",
    "df = pd.read_excel('name_data.xlsx')"
   ]
  },
  {
   "cell_type": "code",
   "execution_count": 49,
   "metadata": {},
   "outputs": [
    {
     "data": {
      "text/html": [
       "<div>\n",
       "<style scoped>\n",
       "    .dataframe tbody tr th:only-of-type {\n",
       "        vertical-align: middle;\n",
       "    }\n",
       "\n",
       "    .dataframe tbody tr th {\n",
       "        vertical-align: top;\n",
       "    }\n",
       "\n",
       "    .dataframe thead th {\n",
       "        text-align: right;\n",
       "    }\n",
       "</style>\n",
       "<table border=\"1\" class=\"dataframe\">\n",
       "  <thead>\n",
       "    <tr style=\"text-align: right;\">\n",
       "      <th></th>\n",
       "      <th>名前（漢字）</th>\n",
       "      <th>名前（カナ）</th>\n",
       "      <th>性別</th>\n",
       "    </tr>\n",
       "  </thead>\n",
       "  <tbody>\n",
       "    <tr>\n",
       "      <th>0</th>\n",
       "      <td>健太</td>\n",
       "      <td>ｹﾝﾀ</td>\n",
       "      <td>1</td>\n",
       "    </tr>\n",
       "    <tr>\n",
       "      <th>1</th>\n",
       "      <td>翔太</td>\n",
       "      <td>ｼｮｳﾀ</td>\n",
       "      <td>1</td>\n",
       "    </tr>\n",
       "    <tr>\n",
       "      <th>2</th>\n",
       "      <td>大輔</td>\n",
       "      <td>ﾀﾞｲｽｹ</td>\n",
       "      <td>1</td>\n",
       "    </tr>\n",
       "    <tr>\n",
       "      <th>3</th>\n",
       "      <td>拓也</td>\n",
       "      <td>ﾀｸﾔ</td>\n",
       "      <td>1</td>\n",
       "    </tr>\n",
       "    <tr>\n",
       "      <th>4</th>\n",
       "      <td>誠</td>\n",
       "      <td>ﾏｺﾄ</td>\n",
       "      <td>1</td>\n",
       "    </tr>\n",
       "  </tbody>\n",
       "</table>\n",
       "</div>"
      ],
      "text/plain": [
       "  名前（漢字） 名前（カナ）  性別\n",
       "0     健太    ｹﾝﾀ   1\n",
       "1     翔太   ｼｮｳﾀ   1\n",
       "2     大輔  ﾀﾞｲｽｹ   1\n",
       "3     拓也    ﾀｸﾔ   1\n",
       "4      誠    ﾏｺﾄ   1"
      ]
     },
     "execution_count": 49,
     "metadata": {},
     "output_type": "execute_result"
    }
   ],
   "source": [
    "df.head()"
   ]
  },
  {
   "cell_type": "code",
   "execution_count": 50,
   "metadata": {},
   "outputs": [],
   "source": [
    "X = df.iloc[:,:-1]\n",
    "y = df.iloc[:,-1]"
   ]
  },
  {
   "cell_type": "code",
   "execution_count": 51,
   "metadata": {},
   "outputs": [],
   "source": [
    "# データを訓練用とテスト用に分ける。\n",
    "from sklearn.model_selection import ShuffleSplit\n",
    "ss = ShuffleSplit(n_splits=1, train_size=0.8, test_size=0.2, random_state=0)\n",
    "train_index, test_index = next(ss.split(X, y))\n",
    "X_train, X_test = X.iloc[train_index], X.iloc[test_index]\n",
    "y_train, y_test = y.iloc[train_index], y.iloc[test_index]"
   ]
  },
  {
   "cell_type": "markdown",
   "metadata": {},
   "source": [
    "## 名前（漢字）をngramに変換した特徴量を使って性別判定する"
   ]
  },
  {
   "cell_type": "code",
   "execution_count": 52,
   "metadata": {},
   "outputs": [],
   "source": [
    "from sklearn.feature_extraction.text import CountVectorizer"
   ]
  },
  {
   "cell_type": "code",
   "execution_count": 53,
   "metadata": {},
   "outputs": [],
   "source": [
    "# CountVectorizerを設定する。（文字単位、ngramの範囲は1～2）\n",
    "vectorizer = CountVectorizer(analyzer='char', ngram_range=(1,2))"
   ]
  },
  {
   "cell_type": "code",
   "execution_count": 54,
   "metadata": {},
   "outputs": [
    {
     "data": {
      "text/plain": [
       "CountVectorizer(analyzer='char', ngram_range=(1, 2))"
      ]
     },
     "execution_count": 54,
     "metadata": {},
     "output_type": "execute_result"
    }
   ],
   "source": [
    "# 特徴量を計算（fit）する。\n",
    "# （訓練データで計算（fit）してから、その結果を使って訓練データとテストデータを変換（transform）する。）\n",
    "vectorizer.fit(X_train['名前（漢字）'])"
   ]
  },
  {
   "cell_type": "code",
   "execution_count": 55,
   "metadata": {},
   "outputs": [
    {
     "name": "stdout",
     "output_type": "stream",
     "text": [
      "['々', '々子', '々美', 'あ', 'あか', 'あす', 'あゆ', 'あり', 'い', 'いず', 'いづ', 'お', 'おり', 'おる', 'か', 'かお', 'かね', 'かり', 'かる', 'き', 'く', 'くら', 'くる', 'ぐ', 'ぐみ', 'さ', 'さお', 'さく', 'さと', 'さゆ', 'し', 'しの', 'す', 'すか', 'すみ', 'ず', 'ずき', 'ずみ', 'た', 'づ', 'づき', 'づみ', 'と', 'とみ', 'ど', 'どか', 'な', 'なた', 'なの', 'ね', 'の', 'のか', 'のぶ', 'のり', 'は', 'はる', 'ひ', 'ひか', 'ひと', 'ひな', 'ひろ', 'ぶ', 'ほ', 'ほの', 'ま', 'まど', 'まゆ', 'み', 'みず', 'みづ', 'みの', 'みゆ', 'みれ', 'め', 'めぐ', 'ゆ', 'ゆか', 'ゆき', 'ゆみ', 'ゆり', 'ら', 'り', 'りさ', 'る', 'るか', 'るみ', 'れ', 'ろ', 'ろみ', '一', '一也', '一哉', '一夫', '一希', '一平', '一幸', '一弘', '一彦', '一成', '一樹', '一男', '一真', '一貴', '一輝', '一郎', '一馬', '七', '七海', '乃', '久', '之', '之介', '也', '二', '亘', '亜', '亜季', '亜実', '亜希', '亜由', '亜紀', '亨', '京', '京介', '京子', '京香', '亮', '亮介', '亮佑', '亮太', '亮平', '亮祐', '亮輔', '人', '仁', '仁志', '仁美', '介', '代', '代子', '伸', '伸一', '伸也', '伸子', '佐', '佐子', '佐知', '佑', '佑太', '佑斗', '佑輔', '佑香', '作', '佳', '佳代', '佳祐', '侑', '侑也', '依', '俊', '俊一', '俊也', '俊幸', '俊彦', '保', '信', '信一', '信之', '信吾', '信子', '信行', '修', '修一', '修司', '修平', '健', '健一', '健二', '健人', '健介', '健司', '健吾', '健太', '健志', '健斗', '健治', '優', '優也', '優介', '優作', '優佳', '優大', '優太', '優奈', '優子', '優希', '優斗', '優樹', '優美', '優花', '優菜', '優衣', '優貴', '優輝', '優香', '元', '元気', '充', '光', '光一', '光司', '光平', '光男', '光輝', '克', '克彦', '兵', '典', '典子', '凌', '凌太', '凜', '利', '剛', '剛史', '創', '力', '力也', '功', '加', '加奈', '努', '勇', '勇一', '勇也', '勇人', '勇太', '勇希', '勇斗', '勇樹', '勇真', '勇貴', '勇輝', '勉', '勝', '勝也', '勝利', '勲', '北', '北斗', '匠', '千', '千夏', '千尋', '千恵', '千春', '千晶', '千秋', '千穂', '千鶴', '卓', '卓也', '卓哉', '南', '博', '博之', '博子', '博文', '博樹', '友', '友也', '友和', '友哉', '友子', '友紀', '友美', '友里', '友香', '史', '史子', '史弥', '史織', '司', '合', '合子', '向', '向子', '吾', '周', '周平', '和', '和久', '和之', '和也', '和代', '和博', '和哉', '和夫', '和子', '和宏', '和希', '和幸', '和広', '和弘', '和恵', '和明', '和真', '和磨', '和美', '和貴', '和輝', '咲', '咲希', '咲良', '哉', '哲', '哲也', '哲平', '唯', '啓', '啓介', '啓太', '啓子', '圭', '圭介', '圭吾', '圭太', '圭子', '圭祐', '士', '壮', '壮太', '夏', '夏奈', '夏子', '夏実', '夏海', '夏美', '夢', '大', '大介', '大吾', '大和', '大志', '大悟', '大成', '大樹', '大河', '大祐', '大貴', '大輔', '大輝', '太', '太一', '太朗', '太郎', '太陽', '夫', '央', '奈', '奈々', '奈央', '奈子', '奈月', '奈津', '奈緒', '奈美', '好', '好美', '妙', '妙子', '子', '孝', '孝一', '孝之', '孝太', '孝夫', '孝子', '孝平', '孝明', '孝行', '季', '学', '守', '宏', '宏樹', '宏美', '実', '実咲', '寛', '寛人', '寛太', '寛子', '寧', '寧々', '将', '将也', '将人', '将司', '将大', '将太', '将平', '尋', '尚', '尚也', '尚人', '尚子', '尚樹', '尚美', '峻', '崇', '巌', '巧', '己', '巳', '帆', '希', '希子', '希望', '希美', '平', '幸', '幸一', '幸代', '幸司', '幸太', '幸子', '幸平', '幸恵', '幸治', '幸男', '幸輝', '幹', '幹太', '広', '広大', '広樹', '広美', '康', '康之', '康太', '康子', '康弘', '康裕', '廉', '弓', '弘', '弘子', '弘樹', '弘美', '弥', '弥生', '強', '彦', '彩', '彩加', '彩夏', '彩子', '彩花', '彩菜', '彩音', '彬', '彰', '徳', '徹', '徹也', '忍', '志', '志保', '志帆', '志穂', '志織', '忠', '怜', '怜央', '恭', '恭兵', '恭子', '恭平', '恵', '恵一', '恵太', '恵子', '恵理', '恵美', '恵里', '悟', '悠', '悠太', '悠平', '悠斗', '悠樹', '悠真', '悠貴', '悦', '悦子', '愛', '愛子', '愛実', '愛弓', '愛梨', '愛理', '愛美', '愛莉', '愛里', '愛香', '慎', '慎一', '慎也', '慎吾', '慎太', '慧', '慶', '慶太', '成', '成美', '拓', '拓也', '拓哉', '拓夢', '拓実', '拓己', '拓巳', '拓弥', '拓斗', '拓朗', '拓海', '拓真', '拓矢', '拓磨', '拓郎', '拓馬', '摘', '敦', '敦也', '敦史', '敦子', '敬', '敬太', '敬子', '文', '文子', '斗', '新', '日', '日向', '日香', '早', '早希', '早紀', '早織', '昂', '昂平', '昇', '昇平', '昌', '昌也', '昌子', '昌平', '昌樹', '昌美', '明', '明宏', '明彦', '明日', '明美', '明里', '春', '春佳', '春樹', '春美', '春花', '春菜', '昭', '昭彦', '晃', '晃一', '晃太', '晃平', '景', '景子', '晴', '晴美', '晴輝', '晴香', '晶', '晶子', '智', '智也', '智博', '智哉', '智大', '智子', '智幸', '智弘', '智恵', '智洋', '智紀', '智裕', '暁', '月', '有', '有希', '有沙', '有紗', '有里', '有香', '朋', '朋子', '朋美', '朗', '望', '未', '未央', '未来', '朱', '朱音', '杏', '杏奈', '来', '栄', '栄子', '栄治', '栞', '桃', '桃佳', '桃子', '桃花', '桜', '桜子', '梓', '梨', '梨乃', '梨沙', '梨紗', '梨菜', '楓', '樹', '樹里', '正', '正人', '正和', '正子', '正幸', '正彦', '正明', '正樹', '正義', '武', '武史', '歩', '歩夢', '歩美', '毅', '気', '汐', '汐里', '沙', '沙織', '沙耶', '河', '治', '泉', '波', '洋', '洋一', '洋介', '洋子', '洋平', '洋輔', '津', '津子', '津美', '浩', '浩一', '浩之', '浩二', '浩史', '浩司', '浩子', '浩平', '浩美', '海', '海人', '海斗', '海渡', '涼', '涼介', '涼太', '涼香', '淳', '淳一', '淳也', '淳子', '淳平', '清', '清美', '渉', '渚', '渡', '満', '滉', '滉平', '潤', '潤一', '澄', '照', '照美', '玲', '玲奈', '玲子', '玲菜', '理', '理子', '理恵', '理沙', '琢', '琢也', '琢磨', '琴', '琴美', '琴音', '瑞', '瑞季', '瑞希', '瑞穂', '瑠', '瑠奈', '瑠美', '瑠菜', '生', '由', '由佳', '由紀', '由美', '由衣', '由香', '男', '留', '留美', '登', '百', '百合', '百恵', '直', '直也', '直人', '直哉', '直子', '直希', '直斗', '直紀', '直美', '直輝', '省', '省吾', '真', '真一', '真二', '真人', '真依', '真優', '真司', '真吾', '真太', '真奈', '真子', '真実', '真帆', '真希', '真悟', '真樹', '真歩', '真澄', '真理', '真由', '真紀', '真美', '真衣', '瞬', '瞭', '矢', '知', '知也', '知子', '知美', '磨', '礼', '礼子', '祐', '祐一', '祐也', '祐介', '祐哉', '祐太', '祐子', '祐樹', '祐美', '祐貴', '祐輔', '祐輝', '祥', '祥子', '秀', '秀一', '秀人', '秀和', '秀太', '秀平', '秀明', '秀樹', '秀美', '秋', '稔', '稜', '穂', '竜', '竜之', '竜也', '竜二', '竜太', '竜平', '竜馬', '章', '篤', '篤史', '篤志', '紀', '紀子', '紅', '純', '純一', '純也', '純子', '純平', '紗', '紗季', '紗良', '結', '結花', '結衣', '絵', '絵理', '絵美', '絵里', '綾', '綾乃', '綾子', '綾菜', '綾香', '緒', '緒子', '緒美', '織', '美', '美代', '美佐', '美保', '美優', '美加', '美南', '美和', '美奈', '美子', '美帆', '美希', '美幸', '美恵', '美智', '美月', '美桜', '美樹', '美沙', '美波', '美穂', '美紀', '美紅', '美緒', '美羽', '美菜', '美里', '美雪', '義', '義人', '羽', '翔', '翔也', '翔吾', '翔大', '翔太', '翔子', '翔平', '翔馬', '翠', '耕', '耕平', '耶', '聖', '聖也', '聖人', '聖子', '聡', '聡子', '肇', '舜', '舞', '舞子', '航', '航大', '航太', '航平', '良', '良太', '良平', '良輔', '花', '花奈', '花音', '芽', '芽衣', '若', '若菜', '英', '英一', '英之', '英二', '英子', '英幸', '英明', '英樹', '英雄', '茂', '茂樹', '茉', '茉奈', '茜', '莉', '莉央', '莉奈', '莉緒', '莉菜', '菜', '菜々', '菜央', '菜子', '菜摘', '菜月', '菜緒', '華', '華奈', '萌', '萌子', '萌絵', '萌香', '葉', '葉子', '葉月', '葵', '蓮', '薫', '蘭', '行', '衛', '衣', '衣子', '裕', '裕一', '裕之', '裕也', '裕司', '裕哉', '裕太', '裕子', '裕幸', '裕紀', '裕美', '裕貴', '要', '覚', '詩', '詩織', '誠', '誠一', '誠二', '誠司', '謙', '謙太', '護', '豊', '豪', '貴', '貴之', '貴也', '貴博', '貴士', '貴大', '貴子', '貴幸', '貴弘', '貴彦', '貴志', '貴裕', '賢', '賢一', '賢二', '賢人', '賢太', '賢治', '輔', '輝', '辰', '辰徳', '透', '進', '達', '達也', '達哉', '達彦', '達矢', '達郎', '遥', '遥香', '遼', '遼太', '遼平', '郁', '郁也', '郁弥', '郎', '里', '里佳', '里奈', '里恵', '里沙', '里菜', '里香', '陸', '陸斗', '陽', '陽一', '陽介', '陽太', '陽子', '陽平', '陽菜', '隆', '隆一', '隆之', '隆太', '隆宏', '隆志', '隆行', '隼', '隼人', '隼斗', '雄', '雄一', '雄二', '雄介', '雄大', '雄平', '雄斗', '雄貴', '雅', '雅之', '雅也', '雅代', '雅子', '雅弘', '雅彦', '雅貴', '雪', '雪乃', '静', '静香', '音', '響', '順', '順一', '順子', '風', '風香', '颯', '颯人', '颯太', '颯斗', '飛', '飛翔', '香', '香織', '香里', '馬', '駿', '高', '高志', '魁', '魁人', '鶴', '麗', '麗奈', '麻', '麻子', '麻紀', '麻美', '麻衣', '麻里', '龍', '龍一', '龍之', '龍二', '龍太', '龍平', '龍馬']\n"
     ]
    }
   ],
   "source": [
    "# 参考に特徴量名を取り出して眺めてみる。\n",
    "feature_kanji = vectorizer.get_feature_names()\n",
    "print(feature_kanji)"
   ]
  },
  {
   "cell_type": "code",
   "execution_count": 56,
   "metadata": {},
   "outputs": [],
   "source": [
    "# データXを特徴量に変換（transform）する。\n",
    "# （訓練データで計算（fit）してから、その結果を使って訓練データとテストデータを変換（transform）する。）\n",
    "X_train_vec_kanji = vectorizer.transform(X_train['名前（漢字）'])\n",
    "X_test_vec_kanji = vectorizer.transform(X_test['名前（漢字）'])"
   ]
  },
  {
   "cell_type": "code",
   "execution_count": 57,
   "metadata": {},
   "outputs": [
    {
     "name": "stdout",
     "output_type": "stream",
     "text": [
      "翔吾 0 々 0\n",
      "翔吾 100 一男 0\n",
      "翔吾 200 優菜 0\n",
      "翔吾 287 吾 1\n",
      "翔吾 300 和希 0\n",
      "翔吾 400 将太 0\n",
      "翔吾 500 愛梨 0\n",
      "翔吾 600 月 0\n",
      "翔吾 700 満 0\n",
      "翔吾 800 祐輝 0\n",
      "翔吾 885 翔 1\n",
      "翔吾 887 翔吾 1\n",
      "翔吾 900 聖子 0\n",
      "翔吾 1000 貴志 0\n",
      "翔吾 1100 麻 0\n"
     ]
    }
   ],
   "source": [
    "# 参考に変換後の訓練データを眺めてみる。\n",
    "# 特徴量を全部見るのは量が多くて大変なので100個おきに飛ばしながら\n",
    "# ほとんどの要素は0だが、たまに1が現れるので、その場合はプリントする。\n",
    "\n",
    "i = 0 # 訓練データのi番目に注目する。\n",
    "n_kanji = len(feature_kanji)\n",
    "for j in range(n_kanji):\n",
    "    if j % 100 == 0:\n",
    "        print(X_train.iloc[i,0], j, feature_kanji[j], X_train_vec_kanji[i,j])\n",
    "    if X_train_vec_kanji[i,j] != 0:\n",
    "        print(X_train.iloc[i,0], j, feature_kanji[j], X_train_vec_kanji[i,j])\n"
   ]
  },
  {
   "cell_type": "code",
   "execution_count": 58,
   "metadata": {},
   "outputs": [
    {
     "name": "stderr",
     "output_type": "stream",
     "text": [
      "C:\\Users\\mxs080\\anaconda3\\lib\\site-packages\\sklearn\\linear_model\\_logistic.py:762: ConvergenceWarning: lbfgs failed to converge (status=1):\n",
      "STOP: TOTAL NO. of ITERATIONS REACHED LIMIT.\n",
      "\n",
      "Increase the number of iterations (max_iter) or scale the data as shown in:\n",
      "    https://scikit-learn.org/stable/modules/preprocessing.html\n",
      "Please also refer to the documentation for alternative solver options:\n",
      "    https://scikit-learn.org/stable/modules/linear_model.html#logistic-regression\n",
      "  n_iter_i = _check_optimize_result(\n",
      "C:\\Users\\mxs080\\anaconda3\\lib\\site-packages\\sklearn\\linear_model\\_logistic.py:762: ConvergenceWarning: lbfgs failed to converge (status=1):\n",
      "STOP: TOTAL NO. of ITERATIONS REACHED LIMIT.\n",
      "\n",
      "Increase the number of iterations (max_iter) or scale the data as shown in:\n",
      "    https://scikit-learn.org/stable/modules/preprocessing.html\n",
      "Please also refer to the documentation for alternative solver options:\n",
      "    https://scikit-learn.org/stable/modules/linear_model.html#logistic-regression\n",
      "  n_iter_i = _check_optimize_result(\n",
      "C:\\Users\\mxs080\\anaconda3\\lib\\site-packages\\sklearn\\linear_model\\_logistic.py:762: ConvergenceWarning: lbfgs failed to converge (status=1):\n",
      "STOP: TOTAL NO. of ITERATIONS REACHED LIMIT.\n",
      "\n",
      "Increase the number of iterations (max_iter) or scale the data as shown in:\n",
      "    https://scikit-learn.org/stable/modules/preprocessing.html\n",
      "Please also refer to the documentation for alternative solver options:\n",
      "    https://scikit-learn.org/stable/modules/linear_model.html#logistic-regression\n",
      "  n_iter_i = _check_optimize_result(\n",
      "C:\\Users\\mxs080\\anaconda3\\lib\\site-packages\\sklearn\\linear_model\\_logistic.py:762: ConvergenceWarning: lbfgs failed to converge (status=1):\n",
      "STOP: TOTAL NO. of ITERATIONS REACHED LIMIT.\n",
      "\n",
      "Increase the number of iterations (max_iter) or scale the data as shown in:\n",
      "    https://scikit-learn.org/stable/modules/preprocessing.html\n",
      "Please also refer to the documentation for alternative solver options:\n",
      "    https://scikit-learn.org/stable/modules/linear_model.html#logistic-regression\n",
      "  n_iter_i = _check_optimize_result(\n",
      "C:\\Users\\mxs080\\anaconda3\\lib\\site-packages\\sklearn\\linear_model\\_logistic.py:762: ConvergenceWarning: lbfgs failed to converge (status=1):\n",
      "STOP: TOTAL NO. of ITERATIONS REACHED LIMIT.\n",
      "\n",
      "Increase the number of iterations (max_iter) or scale the data as shown in:\n",
      "    https://scikit-learn.org/stable/modules/preprocessing.html\n",
      "Please also refer to the documentation for alternative solver options:\n",
      "    https://scikit-learn.org/stable/modules/linear_model.html#logistic-regression\n",
      "  n_iter_i = _check_optimize_result(\n",
      "C:\\Users\\mxs080\\anaconda3\\lib\\site-packages\\sklearn\\linear_model\\_logistic.py:762: ConvergenceWarning: lbfgs failed to converge (status=1):\n",
      "STOP: TOTAL NO. of ITERATIONS REACHED LIMIT.\n",
      "\n",
      "Increase the number of iterations (max_iter) or scale the data as shown in:\n",
      "    https://scikit-learn.org/stable/modules/preprocessing.html\n",
      "Please also refer to the documentation for alternative solver options:\n",
      "    https://scikit-learn.org/stable/modules/linear_model.html#logistic-regression\n",
      "  n_iter_i = _check_optimize_result(\n",
      "C:\\Users\\mxs080\\anaconda3\\lib\\site-packages\\sklearn\\linear_model\\_logistic.py:762: ConvergenceWarning: lbfgs failed to converge (status=1):\n",
      "STOP: TOTAL NO. of ITERATIONS REACHED LIMIT.\n",
      "\n",
      "Increase the number of iterations (max_iter) or scale the data as shown in:\n",
      "    https://scikit-learn.org/stable/modules/preprocessing.html\n",
      "Please also refer to the documentation for alternative solver options:\n",
      "    https://scikit-learn.org/stable/modules/linear_model.html#logistic-regression\n",
      "  n_iter_i = _check_optimize_result(\n",
      "C:\\Users\\mxs080\\anaconda3\\lib\\site-packages\\sklearn\\linear_model\\_logistic.py:762: ConvergenceWarning: lbfgs failed to converge (status=1):\n",
      "STOP: TOTAL NO. of ITERATIONS REACHED LIMIT.\n",
      "\n",
      "Increase the number of iterations (max_iter) or scale the data as shown in:\n",
      "    https://scikit-learn.org/stable/modules/preprocessing.html\n",
      "Please also refer to the documentation for alternative solver options:\n",
      "    https://scikit-learn.org/stable/modules/linear_model.html#logistic-regression\n",
      "  n_iter_i = _check_optimize_result(\n",
      "C:\\Users\\mxs080\\anaconda3\\lib\\site-packages\\sklearn\\linear_model\\_logistic.py:762: ConvergenceWarning: lbfgs failed to converge (status=1):\n",
      "STOP: TOTAL NO. of ITERATIONS REACHED LIMIT.\n",
      "\n",
      "Increase the number of iterations (max_iter) or scale the data as shown in:\n",
      "    https://scikit-learn.org/stable/modules/preprocessing.html\n",
      "Please also refer to the documentation for alternative solver options:\n",
      "    https://scikit-learn.org/stable/modules/linear_model.html#logistic-regression\n",
      "  n_iter_i = _check_optimize_result(\n",
      "C:\\Users\\mxs080\\anaconda3\\lib\\site-packages\\sklearn\\linear_model\\_logistic.py:762: ConvergenceWarning: lbfgs failed to converge (status=1):\n",
      "STOP: TOTAL NO. of ITERATIONS REACHED LIMIT.\n",
      "\n",
      "Increase the number of iterations (max_iter) or scale the data as shown in:\n",
      "    https://scikit-learn.org/stable/modules/preprocessing.html\n",
      "Please also refer to the documentation for alternative solver options:\n",
      "    https://scikit-learn.org/stable/modules/linear_model.html#logistic-regression\n",
      "  n_iter_i = _check_optimize_result(\n",
      "C:\\Users\\mxs080\\anaconda3\\lib\\site-packages\\sklearn\\linear_model\\_logistic.py:762: ConvergenceWarning: lbfgs failed to converge (status=1):\n",
      "STOP: TOTAL NO. of ITERATIONS REACHED LIMIT.\n",
      "\n",
      "Increase the number of iterations (max_iter) or scale the data as shown in:\n",
      "    https://scikit-learn.org/stable/modules/preprocessing.html\n",
      "Please also refer to the documentation for alternative solver options:\n",
      "    https://scikit-learn.org/stable/modules/linear_model.html#logistic-regression\n",
      "  n_iter_i = _check_optimize_result(\n"
     ]
    }
   ],
   "source": [
    "# 機械学習する（パラメーターCを変えながら）\n",
    "from sklearn import linear_model\n",
    "import numpy as np\n",
    "from sklearn.model_selection import cross_val_score\n",
    "\n",
    "clf = linear_model.LogisticRegression()\n",
    "C_range_exp = np.linspace(start=-10, stop=10, num=21)\n",
    "C_range = 10 ** C_range_exp\n",
    "all_scores_mean = []\n",
    "all_scores_std = []\n",
    "for C in C_range:\n",
    "    clf.C = C\n",
    "    scores = cross_val_score(clf, X_train_vec_kanji, y_train, cv=3)\n",
    "    all_scores_mean.append(scores.mean())\n",
    "    all_scores_std.append(scores.std())"
   ]
  },
  {
   "cell_type": "code",
   "execution_count": 59,
   "metadata": {},
   "outputs": [
    {
     "data": {
      "image/png": "[encoded data removed]",
      "text/plain": [
       "<Figure size 432x288 with 1 Axes>"
      ]
     },
     "metadata": {
      "needs_background": "light"
     },
     "output_type": "display_data"
    }
   ],
   "source": [
    "# パラメーターごとのスコアを図示する\n",
    "import matplotlib.pyplot as plt\n",
    "plt.plot(C_range_exp, all_scores_mean)\n",
    "plt.errorbar(C_range_exp, all_scores_mean, yerr=all_scores_std)\n",
    "plt.ylim(0, 1.2)\n",
    "plt.ylabel('accuracy')\n",
    "plt.xlabel('$\\log_{10}$(C)')\n",
    "plt.title('Accuracy for different values of C')\n",
    "plt.show()"
   ]
  },
  {
   "cell_type": "code",
   "execution_count": 60,
   "metadata": {},
   "outputs": [],
   "source": [
    "# 後でnp.argmaxを使いたいので、リストからnumpyアレイに変換しておく。\n",
    "all_scores_mean = np.array(all_scores_mean)\n",
    "all_scores_std = np.array(all_scores_std)"
   ]
  },
  {
   "cell_type": "code",
   "execution_count": 61,
   "metadata": {},
   "outputs": [
    {
     "data": {
      "text/plain": [
       "0.9213383442948114"
      ]
     },
     "execution_count": 61,
     "metadata": {},
     "output_type": "execute_result"
    }
   ],
   "source": [
    "all_scores_mean.max()"
   ]
  },
  {
   "cell_type": "code",
   "execution_count": 62,
   "metadata": {},
   "outputs": [
    {
     "data": {
      "text/plain": [
       "11"
      ]
     },
     "execution_count": 62,
     "metadata": {},
     "output_type": "execute_result"
    }
   ],
   "source": [
    "max_index = np.argmax(all_scores_mean)\n",
    "max_index"
   ]
  },
  {
   "cell_type": "code",
   "execution_count": 63,
   "metadata": {},
   "outputs": [
    {
     "data": {
      "text/plain": [
       "0.9527896995708155"
      ]
     },
     "execution_count": 63,
     "metadata": {},
     "output_type": "execute_result"
    }
   ],
   "source": [
    "# 最適なパラメーターをテストデータに適用する\n",
    "clf.C = 10 ** C_range_exp[max_index]\n",
    "clf.fit(X_train_vec_kanji, y_train)\n",
    "clf.score(X_test_vec_kanji, y_test)"
   ]
  },
  {
   "cell_type": "code",
   "execution_count": 64,
   "metadata": {},
   "outputs": [
    {
     "name": "stdout",
     "output_type": "stream",
     "text": [
      "2 2 道子 ﾐﾁｺ\n",
      "2 2 彩佳 ｱﾔｶ\n",
      "2 2 明子 ｱｷｺ\n",
      "1 1 進一 ｼﾝｲﾁ\n",
      "2 2 香里 ｶｵﾘ\n",
      "1 1 大 ﾏｻﾙ\n",
      "2 2 萌 ﾓｴ\n",
      "1 1 裕 ﾕｳ\n",
      "1 1 駿太 ｼｭﾝﾀ\n",
      "1 1 丈 ｼﾞｮｳ\n",
      "1 1 誠也 ｾｲﾔ\n",
      "2 2 美玖 ﾐｸ\n",
      "2 2 あずさ ｱｽﾞｻ\n",
      "2 2 真央 ﾏｵ\n",
      "1 1 俊介 ｼｭﾝｽｹ\n",
      "1 1 慎之介 ｼﾝﾉｽｹ\n",
      "1 1 駿介 ｼｭﾝｽｹ\n",
      "1 1 翼 ﾂﾊﾞｻ\n",
      "1 1 雄太 ﾕｳﾀ\n",
      "1 1 知輝 ﾄﾓｷ\n",
      "1 1 直樹 ﾅｵｷ\n",
      "2 2 麻由 ﾏﾕ\n",
      "1 1 雄基 ﾕｳｷ\n",
      "2 2 友梨 ﾕﾘ\n",
      "2 2 里美 ｻﾄﾐ\n",
      "2 2 千明 ﾁｱｷ\n",
      "1 1 賢吾 ｹﾝｺﾞ\n",
      "1 1 智之 ﾄﾓﾕｷ\n",
      "1 1 大希 ﾀﾞｲｷ\n",
      "2 2 理子 ﾘｺ\n",
      "1 1 佳樹 ﾖｼｷ\n",
      "2 2 千晴 ﾁﾊﾙ\n",
      "1 1 浩太郎 ｺｳﾀﾛｳ\n",
      "1 1 和行 ｶｽﾞﾕｷ\n",
      "2 1 真澄 ﾏｽﾐ !\n",
      "1 1 孝幸 ﾀｶﾕｷ\n",
      "2 2 美佳 ﾐｶ\n",
      "2 2 夏希 ﾅﾂｷ\n",
      "1 1 寛之 ﾋﾛﾕｷ\n",
      "1 1 翔太朗 ｼｮｳﾀﾛｳ\n",
      "2 2 梨奈 ﾘﾅ\n",
      "1 1 諒太 ﾘｮｳﾀ\n",
      "1 1 大志 ﾀﾞｲｼ\n",
      "1 1 崚 ﾘｮｳ\n",
      "1 1 克己 ｶﾂﾐ\n",
      "1 1 猛 ﾀｹｼ\n",
      "1 1 拓未 ﾀｸﾐ\n",
      "1 1 俊貴 ﾄｼｷ\n",
      "1 1 智 ｻﾄｼ\n",
      "1 1 勝彦 ｶﾂﾋｺ\n",
      "1 1 夏樹 ﾅﾂｷ\n",
      "2 2 智子 ｻﾄｺ\n",
      "2 2 莉帆 ﾘﾎ\n",
      "1 1 謙一 ｹﾝｲﾁ\n",
      "1 1 正之 ﾏｻﾕｷ\n",
      "1 1 洋 ﾋﾛｼ\n",
      "2 2 真里奈 ﾏﾘﾅ\n",
      "1 1 俊平 ｼｭﾝﾍﾟｲ\n",
      "2 2 百花 ﾓﾓｶ\n",
      "2 2 聡美 ｻﾄﾐ\n",
      "1 1 雅史 ﾏｻｼ\n",
      "1 1 裕樹 ﾋﾛｷ\n",
      "1 1 祐亮 ﾕｳｽｹ\n",
      "2 2 沙紀 ｻｷ\n",
      "1 1 謙 ｹﾝ\n",
      "1 1 弘 ﾋﾛｼ\n",
      "2 2 千絵 ﾁｴ\n",
      "1 1 智樹 ﾄﾓｷ\n",
      "2 1 由貴 ﾕｷ !\n",
      "1 1 貴史 ﾀｶﾌﾐ\n",
      "1 1 雄輝 ﾕｳｷ\n",
      "1 1 克哉 ｶﾂﾔ\n",
      "1 1 直弥 ﾅｵﾔ\n",
      "2 2 みなみ ﾐﾅﾐ\n",
      "2 2 久美子 ｸﾐｺ\n",
      "2 2 奈美 ﾅﾐ\n",
      "2 2 里香 ﾘｶ\n",
      "2 2 久美 ｸﾐ\n",
      "1 1 光太郎 ｺｳﾀﾛｳ\n",
      "1 1 俊 ｼｭﾝ\n",
      "1 1 孝志 ﾀｶｼ\n",
      "1 1 快 ｶｲ\n",
      "2 2 真由子 ﾏﾕｺ\n",
      "1 1 勇気 ﾕｳｷ\n",
      "2 2 百香 ﾓﾓｶ\n",
      "2 1 小百合 ｻﾕﾘ !\n",
      "1 1 岳 ｶﾞｸ\n",
      "2 2 恵美 ﾒｸﾞﾐ\n",
      "1 1 祥太 ｼｮｳﾀ\n",
      "2 2 彩乃 ｱﾔﾉ\n",
      "2 2 みどり ﾐﾄﾞﾘ\n",
      "1 1 賢太 ｹﾝﾀ\n",
      "2 2 梨央 ﾘｵ\n",
      "1 1 健 ﾀｹﾙ\n",
      "1 1 遼太郎 ﾘｮｳﾀﾛｳ\n",
      "2 2 晴菜 ﾊﾙﾅ\n",
      "2 2 彩香 ｱﾔｶ\n",
      "2 2 知佳 ﾁｶ\n",
      "1 1 貴史 ﾀｶｼ\n",
      "1 1 賢司 ｹﾝｼﾞ\n",
      "2 2 博美 ﾋﾛﾐ\n",
      "2 2 ひより ﾋﾖﾘ\n",
      "2 2 美奈子 ﾐﾅｺ\n",
      "1 1 祐司 ﾕｳｼﾞ\n",
      "2 2 佳子 ﾖｼｺ\n",
      "2 2 美鈴 ﾐｽｽﾞ\n",
      "1 1 龍司 ﾘｭｳｼﾞ\n",
      "2 2 美咲 ﾐｻｷ\n",
      "2 2 さやか ｻﾔｶ\n",
      "2 2 律子 ﾘﾂｺ\n",
      "1 1 秀之 ﾋﾃﾞﾕｷ\n",
      "2 2 亜美 ｱﾐ\n",
      "1 1 悠人 ﾕｳﾄ\n",
      "2 2 涼子 ﾘｮｳｺ\n",
      "1 1 陸 ﾘｸ\n",
      "1 1 正太 ｼｮｳﾀ\n",
      "2 1 藍 ｱｲ !\n",
      "2 2 春奈 ﾊﾙﾅ\n",
      "1 1 真也 ｼﾝﾔ\n",
      "2 2 千裕 ﾁﾋﾛ\n",
      "1 1 直幸 ﾅｵﾕｷ\n",
      "2 1 和枝 ｶｽﾞｴ !\n",
      "2 2 玲奈 ﾚｲﾅ\n",
      "1 1 智彦 ﾄﾓﾋｺ\n",
      "2 1 真琴 ﾏｺﾄ !\n",
      "1 1 侑樹 ﾕｳｷ\n",
      "1 1 圭亮 ｹｲｽｹ\n",
      "1 1 大輝 ﾀｲｷ\n",
      "1 1 俊之 ﾄｼﾕｷ\n",
      "1 1 竜一 ﾘｭｳｲﾁ\n",
      "1 1 隆介 ﾘｭｳｽｹ\n",
      "2 2 裕子 ﾕｳｺ\n",
      "1 1 博幸 ﾋﾛﾕｷ\n",
      "2 2 怜奈 ﾚｲﾅ\n",
      "1 1 大地 ﾀﾞｲﾁ\n",
      "1 1 拓人 ﾀｸﾄ\n",
      "2 2 優香 ﾕｳｶ\n",
      "2 2 智美 ﾄﾓﾐ\n",
      "2 2 早苗 ｻﾅｴ\n",
      "1 1 諒 ﾘｮｳ\n",
      "2 2 美香 ﾐｶ\n",
      "2 2 友香 ﾕｶ\n",
      "2 2 綾音 ｱﾔﾈ\n",
      "1 1 圭佑 ｹｲｽｹ\n",
      "1 1 宏明 ﾋﾛｱｷ\n",
      "1 1 優一 ﾕｳｲﾁ\n",
      "1 1 俊輔 ｼｭﾝｽｹ\n",
      "2 2 千佳 ﾁｶ\n",
      "1 1 俊樹 ﾄｼｷ\n",
      "1 1 翔太 ｼｮｳﾀ\n",
      "2 2 香奈 ｶﾅ\n",
      "1 1 雄也 ﾕｳﾔ\n",
      "2 2 真奈 ﾏﾅ\n",
      "2 2 彩華 ｱﾔｶ\n",
      "1 1 大夢 ﾋﾛﾑ\n",
      "1 1 翔一 ｼｮｳｲﾁ\n",
      "1 1 悠介 ﾕｳｽｹ\n",
      "2 1 菫 ｽﾐﾚ !\n",
      "2 2 桃香 ﾓﾓｶ\n",
      "1 1 裕二 ﾕｳｼﾞ\n",
      "2 2 理奈 ﾘﾅ\n",
      "1 1 和樹 ｶｽﾞｷ\n",
      "2 2 菜美 ﾅﾐ\n",
      "1 1 健一郎 ｹﾝｲﾁﾛｳ\n",
      "2 2 節子 ｾﾂｺ\n",
      "1 1 勇介 ﾕｳｽｹ\n",
      "1 1 尚輝 ﾅｵｷ\n",
      "1 1 裕樹 ﾕｳｷ\n",
      "1 1 雅人 ﾏｻﾄ\n",
      "1 1 宏幸 ﾋﾛﾕｷ\n",
      "2 2 貴美子 ｷﾐｺ\n",
      "2 1 瞳 ﾋﾄﾐ !\n",
      "1 1 瑞樹 ﾐｽﾞｷ\n",
      "1 1 涼平 ﾘｮｳﾍｲ\n",
      "1 1 諭 ｻﾄｼ\n",
      "1 1 樹 ﾀﾂｷ\n",
      "1 1 大樹 ﾋﾛｷ\n",
      "1 1 裕介 ﾕｳｽｹ\n",
      "1 1 智貴 ﾄﾓｷ\n",
      "1 1 勇 ｲｻﾑ\n",
      "2 2 なつみ ﾅﾂﾐ\n",
      "2 2 紗希 ｻｷ\n",
      "1 1 佑樹 ﾕｳｷ\n",
      "1 1 佑介 ﾕｳｽｹ\n",
      "2 2 久子 ﾋｻｺ\n",
      "2 2 のぞみ ﾉｿﾞﾐ\n",
      "2 2 由美 ﾕﾐ\n",
      "2 1 真弓 ﾏﾕﾐ !\n",
      "1 1 蒼太 ｿｳﾀ\n",
      "2 2 美由紀 ﾐﾕｷ\n",
      "2 2 理紗 ﾘｻ\n",
      "2 2 里紗 ﾘｻ\n",
      "1 1 茂 ｼｹﾞﾙ\n",
      "2 2 郁美 ｲｸﾐ\n",
      "1 1 優人 ﾕｳﾄ\n",
      "2 2 智子 ﾄﾓｺ\n",
      "1 1 和彦 ｶｽﾞﾋｺ\n",
      "1 1 大智 ﾀﾞｲﾁ\n",
      "1 1 俊太 ｼｭﾝﾀ\n",
      "1 1 憲司 ｹﾝｼﾞ\n",
      "1 1 祐希 ﾕｳｷ\n",
      "1 1 慎 ｼﾝ\n",
      "2 2 春香 ﾊﾙｶ\n",
      "2 2 愛理 ｴﾘ\n",
      "2 2 桂子 ｹｲｺ\n",
      "1 1 武志 ﾀｹｼ\n",
      "2 2 有紀 ﾕｷ\n",
      "2 2 佳奈 ｶﾅ\n",
      "1 1 史也 ﾌﾐﾔ\n",
      "1 1 弘明 ﾋﾛｱｷ\n",
      "2 2 莉子 ﾘｺ\n",
      "1 1 亮太 ﾘｮｳﾀ\n",
      "2 2 栞奈 ｶﾝﾅ\n",
      "2 1 こころ ｺｺﾛ !\n",
      "1 1 凌平 ﾘｮｳﾍｲ\n",
      "1 1 康介 ｺｳｽｹ\n",
      "2 2 朱里 ｱｶﾘ\n",
      "1 1 海 ｶｲ\n",
      "1 1 祥平 ｼｮｳﾍｲ\n",
      "1 1 大雅 ﾀｲｶﾞ\n",
      "1 1 智史 ｻﾄｼ\n",
      "2 2 千里 ﾁｻﾄ\n",
      "2 2 しおり ｼｵﾘ\n",
      "2 2 理絵 ﾘｴ\n",
      "1 1 将吾 ｼｮｳｺﾞ\n",
      "2 2 真菜 ﾏﾅ\n",
      "1 2 尚希 ﾅｵｷ !\n",
      "1 1 幸雄 ﾕｷｵ\n",
      "1 1 俊哉 ﾄｼﾔ\n",
      "1 1 康平 ｺｳﾍｲ\n",
      "1 1 良介 ﾘｮｳｽｹ\n",
      "1 1 武 ﾀｹﾙ\n",
      "2 2 良美 ﾖｼﾐ\n"
     ]
    }
   ],
   "source": [
    "# テストデータの判定結果を具体的に眺めてみる。\n",
    "pred_kanji = clf.predict(X_test_vec_kanji)\n",
    "for i in range(len(X_test)):\n",
    "    if y_test.iloc[i] == pred_kanji[i]:\n",
    "        print(y_test.iloc[i], pred_kanji[i], X_test.iloc[i,0], X_test.iloc[i,1])\n",
    "    else:\n",
    "        print(y_test.iloc[i], pred_kanji[i], X_test.iloc[i,0], X_test.iloc[i,1], '!')\n"
   ]
  },
  {
   "cell_type": "markdown",
   "metadata": {
    "collapsed": true
   },
   "source": [
    "## 名前（カナ）をngramに変換した特徴量を使って性別判定する"
   ]
  },
  {
   "cell_type": "code",
   "execution_count": 65,
   "metadata": {},
   "outputs": [],
   "source": [
    "# CountVectorizerを設定する。（文字単位、ngramの範囲は1～2）\n",
    "vectorizer = CountVectorizer(analyzer='char', ngram_range=(1,2))"
   ]
  },
  {
   "cell_type": "code",
   "execution_count": 66,
   "metadata": {},
   "outputs": [
    {
     "data": {
      "text/plain": [
       "CountVectorizer(analyzer='char', ngram_range=(1, 2))"
      ]
     },
     "execution_count": 66,
     "metadata": {},
     "output_type": "execute_result"
    }
   ],
   "source": [
    "# 特徴量を計算（fit）する。\n",
    "# （訓練データで計算（fit）してから、その結果を使って訓練データとテストデータを変換（transform）する。）\n",
    "vectorizer.fit(X_train['名前（カナ）'])"
   ]
  },
  {
   "cell_type": "code",
   "execution_count": 67,
   "metadata": {},
   "outputs": [
    {
     "name": "stdout",
     "output_type": "stream",
     "text": [
      "['ｭ', 'ｭｳ', 'ｭﾘ', 'ｭﾝ', 'ｮ', 'ｮｳ', 'ｯ', 'ｯﾍ', 'ｱ', 'ｱｲ', 'ｱｵ', 'ｱｶ', 'ｱｷ', 'ｱｹ', 'ｱｻ', 'ｱｽ', 'ｱﾂ', 'ｱﾐ', 'ｱﾔ', 'ｱﾕ', 'ｱﾗ', 'ｱﾘ', 'ｱﾝ', 'ｲ', 'ｲｯ', 'ｲｲ', 'ｲｶ', 'ｲｷ', 'ｲｺ', 'ｲｻ', 'ｲｼ', 'ｲｽ', 'ｲｾ', 'ｲﾀ', 'ｲﾁ', 'ｲﾂ', 'ｲﾄ', 'ｲﾅ', 'ｲﾔ', 'ｲﾖ', 'ｲﾘ', 'ｲﾜ', 'ｳ', 'ｳｲ', 'ｳｶ', 'ｳｷ', 'ｳｺ', 'ｳｻ', 'ｳｼ', 'ｳｽ', 'ｳﾀ', 'ｳﾄ', 'ｳﾅ', 'ｳﾉ', 'ｳﾍ', 'ｳﾏ', 'ｳﾔ', 'ｴ', 'ｴｲ', 'ｴｶ', 'ｴｺ', 'ｴﾂ', 'ｴﾃ', 'ｴﾐ', 'ｴﾘ', 'ｵ', 'ｵｲ', 'ｵｷ', 'ｵｺ', 'ｵｻ', 'ｵﾄ', 'ｵﾐ', 'ｵﾔ', 'ｵﾘ', 'ｵﾙ', 'ｶ', 'ｶｱ', 'ｶｲ', 'ｶｴ', 'ｶｵ', 'ｶｹ', 'ｶｺ', 'ｶｻ', 'ｶｼ', 'ｶｽ', 'ｶﾂ', 'ｶﾅ', 'ｶﾈ', 'ｶﾉ', 'ｶﾋ', 'ｶﾔ', 'ｶﾕ', 'ｶﾖ', 'ｶﾗ', 'ｶﾘ', 'ｶﾙ', 'ｶﾝ', 'ｶﾞ', 'ｷ', 'ｷｮ', 'ｷｴ', 'ｷｵ', 'ｷｺ', 'ｷﾉ', 'ｷﾋ', 'ｷﾔ', 'ｷﾖ', 'ｷﾗ', 'ｷﾞ', 'ｸ', 'ｸﾄ', 'ｸﾏ', 'ｸﾐ', 'ｸﾑ', 'ｸﾔ', 'ｸﾗ', 'ｸﾙ', 'ｸﾛ', 'ｸﾞ', 'ｹ', 'ｹｲ', 'ｹｼ', 'ｹﾐ', 'ｹﾙ', 'ｹﾝ', 'ｹﾞ', 'ｺ', 'ｺｳ', 'ｺﾄ', 'ｺﾞ', 'ｻ', 'ｻｱ', 'ｻｵ', 'ｻｶ', 'ｻｷ', 'ｻｸ', 'ｻｺ', 'ｻｼ', 'ｻﾁ', 'ｻﾄ', 'ｻﾋ', 'ｻﾐ', 'ｻﾑ', 'ｻﾔ', 'ｻﾕ', 'ｻﾖ', 'ｻﾗ', 'ｻﾙ', 'ｼ', 'ｼｭ', 'ｼｮ', 'ｼｵ', 'ｼｹ', 'ｼｺ', 'ｼｽ', 'ｼﾄ', 'ｼﾉ', 'ｼﾋ', 'ｼﾎ', 'ｼﾐ', 'ｼﾔ', 'ｼﾕ', 'ｼﾝ', 'ｼﾞ', 'ｽ', 'ｽｶ', 'ｽｸ', 'ｽｹ', 'ｽｺ', 'ｽｽ', 'ｽﾋ', 'ｽﾐ', 'ｽﾑ', 'ｽﾕ', 'ｽﾞ', 'ｾ', 'ｾｲ', 'ｿ', 'ｿｳ', 'ｿﾞ', 'ﾀ', 'ﾀｲ', 'ﾀｴ', 'ﾀｶ', 'ﾀｸ', 'ﾀｹ', 'ﾀﾀ', 'ﾀﾂ', 'ﾀﾓ', 'ﾀﾙ', 'ﾀﾛ', 'ﾀﾞ', 'ﾁ', 'ﾁｱ', 'ﾁｴ', 'ﾁｶ', 'ﾁｺ', 'ﾁﾂ', 'ﾁﾅ', 'ﾁﾊ', 'ﾁﾋ', 'ﾁﾎ', 'ﾁﾖ', 'ﾁﾛ', 'ﾂ', 'ﾂｵ', 'ﾂｶ', 'ﾂｷ', 'ﾂｺ', 'ﾂｼ', 'ﾂﾄ', 'ﾂﾉ', 'ﾂﾊ', 'ﾂﾋ', 'ﾂﾐ', 'ﾂﾔ', 'ﾂﾖ', 'ﾂﾙ', 'ﾂﾛ', 'ﾂﾞ', 'ﾃ', 'ﾃｯ', 'ﾃﾂ', 'ﾃﾙ', 'ﾃﾞ', 'ﾄ', 'ﾄｵ', 'ﾄｺ', 'ﾄｼ', 'ﾄﾈ', 'ﾄﾐ', 'ﾄﾑ', 'ﾄﾓ', 'ﾄﾙ', 'ﾄﾞ', 'ﾅ', 'ﾅｵ', 'ﾅｷ', 'ﾅｺ', 'ﾅﾀ', 'ﾅﾂ', 'ﾅﾅ', 'ﾅﾉ', 'ﾅﾌ', 'ﾅﾐ', 'ﾅﾒ', 'ﾅﾘ', 'ﾅﾙ', 'ﾈ', 'ﾈﾈ', 'ﾉ', 'ﾉｶ', 'ﾉｽ', 'ﾉｿ', 'ﾉﾌ', 'ﾉﾎ', 'ﾉﾘ', 'ﾉﾙ', 'ﾉﾝ', 'ﾊ', 'ﾊｼ', 'ﾊﾂ', 'ﾊﾔ', 'ﾊﾙ', 'ﾊﾞ', 'ﾋ', 'ﾋｶ', 'ﾋｺ', 'ﾋｻ', 'ﾋﾃ', 'ﾋﾄ', 'ﾋﾅ', 'ﾋﾋ', 'ﾋﾛ', 'ﾋﾞ', 'ﾌ', 'ﾌｳ', 'ﾌﾐ', 'ﾌﾞ', 'ﾍ', 'ﾍｲ', 'ﾍﾟ', 'ﾎ', 'ﾎｸ', 'ﾎﾉ', 'ﾎﾞ', 'ﾏ', 'ﾏｲ', 'ﾏｷ', 'ﾏｺ', 'ﾏｻ', 'ﾏｽ', 'ﾏﾄ', 'ﾏﾅ', 'ﾏﾎ', 'ﾏﾐ', 'ﾏﾓ', 'ﾏﾕ', 'ﾏﾘ', 'ﾐ', 'ﾐｳ', 'ﾐｴ', 'ﾐｵ', 'ﾐｶ', 'ﾐｷ', 'ﾐｸ', 'ﾐｺ', 'ﾐｻ', 'ﾐｽ', 'ﾐﾁ', 'ﾐﾂ', 'ﾐﾄ', 'ﾐﾅ', 'ﾐﾉ', 'ﾐﾎ', 'ﾐﾔ', 'ﾐﾕ', 'ﾐﾖ', 'ﾐﾗ', 'ﾐﾚ', 'ﾐﾜ', 'ﾑ', 'ﾒ', 'ﾒｲ', 'ﾒｸ', 'ﾓ', 'ﾓｴ', 'ﾓｶ', 'ﾓｷ', 'ﾓｺ', 'ﾓﾂ', 'ﾓﾋ', 'ﾓﾐ', 'ﾓﾓ', 'ﾓﾔ', 'ﾓﾕ', 'ﾓﾙ', 'ﾔ', 'ﾔｶ', 'ﾔｺ', 'ﾔｽ', 'ﾔﾃ', 'ﾔﾄ', 'ﾔﾅ', 'ﾔﾈ', 'ﾔﾉ', 'ﾔﾋ', 'ﾔﾏ', 'ﾔﾖ', 'ﾕ', 'ﾕｲ', 'ﾕｳ', 'ﾕｶ', 'ﾕｷ', 'ﾕﾀ', 'ﾕﾐ', 'ﾕﾑ', 'ﾕﾘ', 'ﾖ', 'ﾖｲ', 'ﾖｳ', 'ﾖｺ', 'ﾖｼ', 'ﾖﾐ', 'ﾗ', 'ﾗｲ', 'ﾗｺ', 'ﾗﾀ', 'ﾗﾝ', 'ﾘ', 'ﾘｭ', 'ﾘｮ', 'ﾘｴ', 'ﾘｵ', 'ﾘｶ', 'ﾘｷ', 'ﾘｸ', 'ﾘｺ', 'ﾘｻ', 'ﾘﾅ', 'ﾘﾉ', 'ﾘﾝ', 'ﾙ', 'ﾙｶ', 'ﾙｷ', 'ﾙﾅ', 'ﾙﾐ', 'ﾚ', 'ﾚｲ', 'ﾚｵ', 'ﾚﾅ', 'ﾚﾝ', 'ﾛ', 'ﾛｳ', 'ﾛｷ', 'ﾛｺ', 'ﾛｼ', 'ﾛﾄ', 'ﾛﾌ', 'ﾛﾐ', 'ﾛﾕ', 'ﾜ', 'ﾜｵ', 'ﾜｶ', 'ﾜｺ', 'ﾜﾀ', 'ﾝ', 'ﾝｲ', 'ﾝｷ', 'ﾝｺ', 'ﾝｼ', 'ﾝｽ', 'ﾝﾀ', 'ﾝﾄ', 'ﾝﾅ', 'ﾝﾍ', 'ﾝﾔ', 'ﾞ', 'ﾞｭ', 'ﾞｱ', 'ﾞｲ', 'ﾞｳ', 'ﾞｴ', 'ﾞｵ', 'ﾞｶ', 'ﾞｷ', 'ﾞｺ', 'ﾞｻ', 'ﾞｼ', 'ﾞﾄ', 'ﾞﾅ', 'ﾞﾋ', 'ﾞﾎ', 'ﾞﾏ', 'ﾞﾐ', 'ﾞﾑ', 'ﾞﾒ', 'ﾞﾔ', 'ﾞﾕ', 'ﾞﾖ', 'ﾞﾘ', 'ﾞﾙ', 'ﾞﾝ', 'ﾟ', 'ﾟｲ']\n"
     ]
    }
   ],
   "source": [
    "# 参考に特徴量名を取り出して眺めてみる。\n",
    "feature_kana = vectorizer.get_feature_names()\n",
    "print(feature_kana)"
   ]
  },
  {
   "cell_type": "code",
   "execution_count": 68,
   "metadata": {},
   "outputs": [],
   "source": [
    "# データXを特徴量に変換（transform）する。\n",
    "# （訓練データで計算（fit）してから、その結果を使って訓練データとテストデータを変換（transform）する。）\n",
    "X_train_vec_kana = vectorizer.transform(X_train['名前（カナ）'])\n",
    "X_test_vec_kana = vectorizer.transform(X_test['名前（カナ）'])"
   ]
  },
  {
   "cell_type": "code",
   "execution_count": 69,
   "metadata": {},
   "outputs": [
    {
     "name": "stdout",
     "output_type": "stream",
     "text": [
      "ｼｮｳｺﾞ 0 ｭ 0\n",
      "ｼｮｳｺﾞ 4 ｮ 1\n",
      "ｼｮｳｺﾞ 5 ｮｳ 1\n",
      "ｼｮｳｺﾞ 42 ｳ 1\n",
      "ｼｮｳｺﾞ 46 ｳｺ 1\n",
      "ｼｮｳｺﾞ 100 ｷｴ 0\n",
      "ｼｮｳｺﾞ 126 ｺ 1\n",
      "ｼｮｳｺﾞ 129 ｺﾞ 1\n",
      "ｼｮｳｺﾞ 148 ｼ 1\n",
      "ｼｮｳｺﾞ 150 ｼｮ 1\n",
      "ｼｮｳｺﾞ 200 ﾁﾋ 0\n",
      "ｼｮｳｺﾞ 300 ﾐｳ 0\n",
      "ｼｮｳｺﾞ 400 ﾛﾕ 0\n",
      "ｼｮｳｺﾞ 417 ﾞ 1\n"
     ]
    }
   ],
   "source": [
    "# 参考に変換後の訓練データを眺めてみる。\n",
    "# 特徴量を全部見るのは量が多くて大変なので100個おきに飛ばしながら\n",
    "# ほとんどの要素は0だが、たまに1が現れるので、その場合はプリントする。\n",
    "\n",
    "i = 0 # 訓練データのi番目に注目する。\n",
    "n_kana = len(feature_kana)\n",
    "for j in range(n_kana):\n",
    "    if j % 100 == 0:\n",
    "        print(X_train.iloc[i,1], j, feature_kana[j], X_train_vec_kana[i,j])\n",
    "    if X_train_vec_kana[i,j] != 0:\n",
    "        print(X_train.iloc[i,1], j, feature_kana[j], X_train_vec_kana[i,j])"
   ]
  },
  {
   "cell_type": "code",
   "execution_count": 70,
   "metadata": {},
   "outputs": [
    {
     "name": "stderr",
     "output_type": "stream",
     "text": [
      "C:\\Users\\mxs080\\anaconda3\\lib\\site-packages\\sklearn\\linear_model\\_logistic.py:762: ConvergenceWarning: lbfgs failed to converge (status=1):\n",
      "STOP: TOTAL NO. of ITERATIONS REACHED LIMIT.\n",
      "\n",
      "Increase the number of iterations (max_iter) or scale the data as shown in:\n",
      "    https://scikit-learn.org/stable/modules/preprocessing.html\n",
      "Please also refer to the documentation for alternative solver options:\n",
      "    https://scikit-learn.org/stable/modules/linear_model.html#logistic-regression\n",
      "  n_iter_i = _check_optimize_result(\n",
      "C:\\Users\\mxs080\\anaconda3\\lib\\site-packages\\sklearn\\linear_model\\_logistic.py:762: ConvergenceWarning: lbfgs failed to converge (status=1):\n",
      "STOP: TOTAL NO. of ITERATIONS REACHED LIMIT.\n",
      "\n",
      "Increase the number of iterations (max_iter) or scale the data as shown in:\n",
      "    https://scikit-learn.org/stable/modules/preprocessing.html\n",
      "Please also refer to the documentation for alternative solver options:\n",
      "    https://scikit-learn.org/stable/modules/linear_model.html#logistic-regression\n",
      "  n_iter_i = _check_optimize_result(\n",
      "C:\\Users\\mxs080\\anaconda3\\lib\\site-packages\\sklearn\\linear_model\\_logistic.py:762: ConvergenceWarning: lbfgs failed to converge (status=1):\n",
      "STOP: TOTAL NO. of ITERATIONS REACHED LIMIT.\n",
      "\n",
      "Increase the number of iterations (max_iter) or scale the data as shown in:\n",
      "    https://scikit-learn.org/stable/modules/preprocessing.html\n",
      "Please also refer to the documentation for alternative solver options:\n",
      "    https://scikit-learn.org/stable/modules/linear_model.html#logistic-regression\n",
      "  n_iter_i = _check_optimize_result(\n",
      "C:\\Users\\mxs080\\anaconda3\\lib\\site-packages\\sklearn\\linear_model\\_logistic.py:762: ConvergenceWarning: lbfgs failed to converge (status=1):\n",
      "STOP: TOTAL NO. of ITERATIONS REACHED LIMIT.\n",
      "\n",
      "Increase the number of iterations (max_iter) or scale the data as shown in:\n",
      "    https://scikit-learn.org/stable/modules/preprocessing.html\n",
      "Please also refer to the documentation for alternative solver options:\n",
      "    https://scikit-learn.org/stable/modules/linear_model.html#logistic-regression\n",
      "  n_iter_i = _check_optimize_result(\n",
      "C:\\Users\\mxs080\\anaconda3\\lib\\site-packages\\sklearn\\linear_model\\_logistic.py:762: ConvergenceWarning: lbfgs failed to converge (status=1):\n",
      "STOP: TOTAL NO. of ITERATIONS REACHED LIMIT.\n",
      "\n",
      "Increase the number of iterations (max_iter) or scale the data as shown in:\n",
      "    https://scikit-learn.org/stable/modules/preprocessing.html\n",
      "Please also refer to the documentation for alternative solver options:\n",
      "    https://scikit-learn.org/stable/modules/linear_model.html#logistic-regression\n",
      "  n_iter_i = _check_optimize_result(\n",
      "C:\\Users\\mxs080\\anaconda3\\lib\\site-packages\\sklearn\\linear_model\\_logistic.py:762: ConvergenceWarning: lbfgs failed to converge (status=1):\n",
      "STOP: TOTAL NO. of ITERATIONS REACHED LIMIT.\n",
      "\n",
      "Increase the number of iterations (max_iter) or scale the data as shown in:\n",
      "    https://scikit-learn.org/stable/modules/preprocessing.html\n",
      "Please also refer to the documentation for alternative solver options:\n",
      "    https://scikit-learn.org/stable/modules/linear_model.html#logistic-regression\n",
      "  n_iter_i = _check_optimize_result(\n",
      "C:\\Users\\mxs080\\anaconda3\\lib\\site-packages\\sklearn\\linear_model\\_logistic.py:762: ConvergenceWarning: lbfgs failed to converge (status=1):\n",
      "STOP: TOTAL NO. of ITERATIONS REACHED LIMIT.\n",
      "\n",
      "Increase the number of iterations (max_iter) or scale the data as shown in:\n",
      "    https://scikit-learn.org/stable/modules/preprocessing.html\n",
      "Please also refer to the documentation for alternative solver options:\n",
      "    https://scikit-learn.org/stable/modules/linear_model.html#logistic-regression\n",
      "  n_iter_i = _check_optimize_result(\n",
      "C:\\Users\\mxs080\\anaconda3\\lib\\site-packages\\sklearn\\linear_model\\_logistic.py:762: ConvergenceWarning: lbfgs failed to converge (status=1):\n",
      "STOP: TOTAL NO. of ITERATIONS REACHED LIMIT.\n",
      "\n",
      "Increase the number of iterations (max_iter) or scale the data as shown in:\n",
      "    https://scikit-learn.org/stable/modules/preprocessing.html\n",
      "Please also refer to the documentation for alternative solver options:\n",
      "    https://scikit-learn.org/stable/modules/linear_model.html#logistic-regression\n",
      "  n_iter_i = _check_optimize_result(\n",
      "C:\\Users\\mxs080\\anaconda3\\lib\\site-packages\\sklearn\\linear_model\\_logistic.py:762: ConvergenceWarning: lbfgs failed to converge (status=1):\n",
      "STOP: TOTAL NO. of ITERATIONS REACHED LIMIT.\n",
      "\n",
      "Increase the number of iterations (max_iter) or scale the data as shown in:\n",
      "    https://scikit-learn.org/stable/modules/preprocessing.html\n",
      "Please also refer to the documentation for alternative solver options:\n",
      "    https://scikit-learn.org/stable/modules/linear_model.html#logistic-regression\n",
      "  n_iter_i = _check_optimize_result(\n",
      "C:\\Users\\mxs080\\anaconda3\\lib\\site-packages\\sklearn\\linear_model\\_logistic.py:762: ConvergenceWarning: lbfgs failed to converge (status=1):\n",
      "STOP: TOTAL NO. of ITERATIONS REACHED LIMIT.\n",
      "\n",
      "Increase the number of iterations (max_iter) or scale the data as shown in:\n",
      "    https://scikit-learn.org/stable/modules/preprocessing.html\n",
      "Please also refer to the documentation for alternative solver options:\n",
      "    https://scikit-learn.org/stable/modules/linear_model.html#logistic-regression\n",
      "  n_iter_i = _check_optimize_result(\n",
      "C:\\Users\\mxs080\\anaconda3\\lib\\site-packages\\sklearn\\linear_model\\_logistic.py:762: ConvergenceWarning: lbfgs failed to converge (status=1):\n",
      "STOP: TOTAL NO. of ITERATIONS REACHED LIMIT.\n",
      "\n",
      "Increase the number of iterations (max_iter) or scale the data as shown in:\n",
      "    https://scikit-learn.org/stable/modules/preprocessing.html\n",
      "Please also refer to the documentation for alternative solver options:\n",
      "    https://scikit-learn.org/stable/modules/linear_model.html#logistic-regression\n",
      "  n_iter_i = _check_optimize_result(\n",
      "C:\\Users\\mxs080\\anaconda3\\lib\\site-packages\\sklearn\\linear_model\\_logistic.py:762: ConvergenceWarning: lbfgs failed to converge (status=1):\n",
      "STOP: TOTAL NO. of ITERATIONS REACHED LIMIT.\n",
      "\n",
      "Increase the number of iterations (max_iter) or scale the data as shown in:\n",
      "    https://scikit-learn.org/stable/modules/preprocessing.html\n",
      "Please also refer to the documentation for alternative solver options:\n",
      "    https://scikit-learn.org/stable/modules/linear_model.html#logistic-regression\n",
      "  n_iter_i = _check_optimize_result(\n",
      "C:\\Users\\mxs080\\anaconda3\\lib\\site-packages\\sklearn\\linear_model\\_logistic.py:762: ConvergenceWarning: lbfgs failed to converge (status=1):\n",
      "STOP: TOTAL NO. of ITERATIONS REACHED LIMIT.\n",
      "\n",
      "Increase the number of iterations (max_iter) or scale the data as shown in:\n",
      "    https://scikit-learn.org/stable/modules/preprocessing.html\n",
      "Please also refer to the documentation for alternative solver options:\n",
      "    https://scikit-learn.org/stable/modules/linear_model.html#logistic-regression\n",
      "  n_iter_i = _check_optimize_result(\n",
      "C:\\Users\\mxs080\\anaconda3\\lib\\site-packages\\sklearn\\linear_model\\_logistic.py:762: ConvergenceWarning: lbfgs failed to converge (status=1):\n",
      "STOP: TOTAL NO. of ITERATIONS REACHED LIMIT.\n",
      "\n",
      "Increase the number of iterations (max_iter) or scale the data as shown in:\n",
      "    https://scikit-learn.org/stable/modules/preprocessing.html\n",
      "Please also refer to the documentation for alternative solver options:\n",
      "    https://scikit-learn.org/stable/modules/linear_model.html#logistic-regression\n",
      "  n_iter_i = _check_optimize_result(\n"
     ]
    }
   ],
   "source": [
    "# 機械学習する（パラメーターCを変えながら）\n",
    "clf = linear_model.LogisticRegression()\n",
    "C_range_exp = np.linspace(start=-10, stop=10, num=21)\n",
    "C_range = 10 ** C_range_exp\n",
    "all_scores_mean = []\n",
    "all_scores_std = []\n",
    "for C in C_range:\n",
    "    clf.C = C\n",
    "    scores = cross_val_score(clf, X_train_vec_kana, y_train, cv=3)\n",
    "    all_scores_mean.append(scores.mean())\n",
    "    all_scores_std.append(scores.std())"
   ]
  },
  {
   "cell_type": "code",
   "execution_count": 71,
   "metadata": {},
   "outputs": [
    {
     "data": {
      "image/png": "[encoded data removed]",
      "text/plain": [
       "<Figure size 432x288 with 1 Axes>"
      ]
     },
     "metadata": {
      "needs_background": "light"
     },
     "output_type": "display_data"
    }
   ],
   "source": [
    "plt.plot(C_range_exp, all_scores_mean)\n",
    "plt.errorbar(C_range_exp, all_scores_mean, yerr=all_scores_std)\n",
    "plt.ylim(0, 1.2)\n",
    "plt.ylabel('accuracy')\n",
    "plt.xlabel('$\\log_{10}$(C)')\n",
    "plt.title('Accuracy for different values of C')\n",
    "plt.show()"
   ]
  },
  {
   "cell_type": "code",
   "execution_count": 72,
   "metadata": {},
   "outputs": [],
   "source": [
    "# 後でnp.argmaxを使いたいので、リストからnumpyアレイに変換しておく。\n",
    "all_scores_mean = np.array(all_scores_mean)\n",
    "all_scores_std = np.array(all_scores_std)"
   ]
  },
  {
   "cell_type": "code",
   "execution_count": 73,
   "metadata": {},
   "outputs": [
    {
     "data": {
      "text/plain": [
       "0.9579775202700351"
      ]
     },
     "execution_count": 73,
     "metadata": {},
     "output_type": "execute_result"
    }
   ],
   "source": [
    "all_scores_mean.max()"
   ]
  },
  {
   "cell_type": "code",
   "execution_count": 74,
   "metadata": {},
   "outputs": [
    {
     "data": {
      "text/plain": [
       "12"
      ]
     },
     "execution_count": 74,
     "metadata": {},
     "output_type": "execute_result"
    }
   ],
   "source": [
    "max_index = np.argmax(all_scores_mean)\n",
    "max_index"
   ]
  },
  {
   "cell_type": "code",
   "execution_count": 75,
   "metadata": {},
   "outputs": [
    {
     "name": "stderr",
     "output_type": "stream",
     "text": [
      "C:\\Users\\mxs080\\anaconda3\\lib\\site-packages\\sklearn\\linear_model\\_logistic.py:762: ConvergenceWarning: lbfgs failed to converge (status=1):\n",
      "STOP: TOTAL NO. of ITERATIONS REACHED LIMIT.\n",
      "\n",
      "Increase the number of iterations (max_iter) or scale the data as shown in:\n",
      "    https://scikit-learn.org/stable/modules/preprocessing.html\n",
      "Please also refer to the documentation for alternative solver options:\n",
      "    https://scikit-learn.org/stable/modules/linear_model.html#logistic-regression\n",
      "  n_iter_i = _check_optimize_result(\n"
     ]
    },
    {
     "data": {
      "text/plain": [
       "0.9527896995708155"
      ]
     },
     "execution_count": 75,
     "metadata": {},
     "output_type": "execute_result"
    }
   ],
   "source": [
    "# 最適なパラメーターをテストデータに適用する\n",
    "clf.C = 10 ** C_range_exp[max_index]\n",
    "clf.fit(X_train_vec_kana, y_train)\n",
    "clf.score(X_test_vec_kana, y_test)"
   ]
  },
  {
   "cell_type": "code",
   "execution_count": 76,
   "metadata": {},
   "outputs": [
    {
     "name": "stdout",
     "output_type": "stream",
     "text": [
      "2 2 道子 ﾐﾁｺ\n",
      "2 2 彩佳 ｱﾔｶ\n",
      "2 2 明子 ｱｷｺ\n",
      "1 1 進一 ｼﾝｲﾁ\n",
      "2 2 香里 ｶｵﾘ\n",
      "1 1 大 ﾏｻﾙ\n",
      "2 2 萌 ﾓｴ\n",
      "1 1 裕 ﾕｳ\n",
      "1 1 駿太 ｼｭﾝﾀ\n",
      "1 1 丈 ｼﾞｮｳ\n",
      "1 1 誠也 ｾｲﾔ\n",
      "2 2 美玖 ﾐｸ\n",
      "2 2 あずさ ｱｽﾞｻ\n",
      "2 1 真央 ﾏｵ !\n",
      "1 1 俊介 ｼｭﾝｽｹ\n",
      "1 1 慎之介 ｼﾝﾉｽｹ\n",
      "1 1 駿介 ｼｭﾝｽｹ\n",
      "1 1 翼 ﾂﾊﾞｻ\n",
      "1 1 雄太 ﾕｳﾀ\n",
      "1 1 知輝 ﾄﾓｷ\n",
      "1 1 直樹 ﾅｵｷ\n",
      "2 2 麻由 ﾏﾕ\n",
      "1 1 雄基 ﾕｳｷ\n",
      "2 2 友梨 ﾕﾘ\n",
      "2 2 里美 ｻﾄﾐ\n",
      "2 2 千明 ﾁｱｷ\n",
      "1 1 賢吾 ｹﾝｺﾞ\n",
      "1 1 智之 ﾄﾓﾕｷ\n",
      "1 1 大希 ﾀﾞｲｷ\n",
      "2 2 理子 ﾘｺ\n",
      "1 1 佳樹 ﾖｼｷ\n",
      "2 2 千晴 ﾁﾊﾙ\n",
      "1 1 浩太郎 ｺｳﾀﾛｳ\n",
      "1 1 和行 ｶｽﾞﾕｷ\n",
      "2 1 真澄 ﾏｽﾐ !\n",
      "1 1 孝幸 ﾀｶﾕｷ\n",
      "2 2 美佳 ﾐｶ\n",
      "2 2 夏希 ﾅﾂｷ\n",
      "1 1 寛之 ﾋﾛﾕｷ\n",
      "1 1 翔太朗 ｼｮｳﾀﾛｳ\n",
      "2 2 梨奈 ﾘﾅ\n",
      "1 1 諒太 ﾘｮｳﾀ\n",
      "1 1 大志 ﾀﾞｲｼ\n",
      "1 1 崚 ﾘｮｳ\n",
      "1 2 克己 ｶﾂﾐ !\n",
      "1 1 猛 ﾀｹｼ\n",
      "1 1 拓未 ﾀｸﾐ\n",
      "1 1 俊貴 ﾄｼｷ\n",
      "1 1 智 ｻﾄｼ\n",
      "1 1 勝彦 ｶﾂﾋｺ\n",
      "1 2 夏樹 ﾅﾂｷ !\n",
      "2 2 智子 ｻﾄｺ\n",
      "2 2 莉帆 ﾘﾎ\n",
      "1 1 謙一 ｹﾝｲﾁ\n",
      "1 1 正之 ﾏｻﾕｷ\n",
      "1 1 洋 ﾋﾛｼ\n",
      "2 2 真里奈 ﾏﾘﾅ\n",
      "1 1 俊平 ｼｭﾝﾍﾟｲ\n",
      "2 2 百花 ﾓﾓｶ\n",
      "2 2 聡美 ｻﾄﾐ\n",
      "1 1 雅史 ﾏｻｼ\n",
      "1 1 裕樹 ﾋﾛｷ\n",
      "1 1 祐亮 ﾕｳｽｹ\n",
      "2 2 沙紀 ｻｷ\n",
      "1 1 謙 ｹﾝ\n",
      "1 1 弘 ﾋﾛｼ\n",
      "2 2 千絵 ﾁｴ\n",
      "1 1 智樹 ﾄﾓｷ\n",
      "2 2 由貴 ﾕｷ\n",
      "1 1 貴史 ﾀｶﾌﾐ\n",
      "1 1 雄輝 ﾕｳｷ\n",
      "1 1 克哉 ｶﾂﾔ\n",
      "1 1 直弥 ﾅｵﾔ\n",
      "2 2 みなみ ﾐﾅﾐ\n",
      "2 2 久美子 ｸﾐｺ\n",
      "2 2 奈美 ﾅﾐ\n",
      "2 2 里香 ﾘｶ\n",
      "2 2 久美 ｸﾐ\n",
      "1 1 光太郎 ｺｳﾀﾛｳ\n",
      "1 1 俊 ｼｭﾝ\n",
      "1 1 孝志 ﾀｶｼ\n",
      "1 2 快 ｶｲ !\n",
      "2 2 真由子 ﾏﾕｺ\n",
      "1 1 勇気 ﾕｳｷ\n",
      "2 2 百香 ﾓﾓｶ\n",
      "2 2 小百合 ｻﾕﾘ\n",
      "1 2 岳 ｶﾞｸ !\n",
      "2 2 恵美 ﾒｸﾞﾐ\n",
      "1 1 祥太 ｼｮｳﾀ\n",
      "2 2 彩乃 ｱﾔﾉ\n",
      "2 2 みどり ﾐﾄﾞﾘ\n",
      "1 1 賢太 ｹﾝﾀ\n",
      "2 2 梨央 ﾘｵ\n",
      "1 1 健 ﾀｹﾙ\n",
      "1 1 遼太郎 ﾘｮｳﾀﾛｳ\n",
      "2 2 晴菜 ﾊﾙﾅ\n",
      "2 2 彩香 ｱﾔｶ\n",
      "2 2 知佳 ﾁｶ\n",
      "1 1 貴史 ﾀｶｼ\n",
      "1 1 賢司 ｹﾝｼﾞ\n",
      "2 2 博美 ﾋﾛﾐ\n",
      "2 2 ひより ﾋﾖﾘ\n",
      "2 2 美奈子 ﾐﾅｺ\n",
      "1 1 祐司 ﾕｳｼﾞ\n",
      "2 2 佳子 ﾖｼｺ\n",
      "2 2 美鈴 ﾐｽｽﾞ\n",
      "1 1 龍司 ﾘｭｳｼﾞ\n",
      "2 2 美咲 ﾐｻｷ\n",
      "2 2 さやか ｻﾔｶ\n",
      "2 2 律子 ﾘﾂｺ\n",
      "1 1 秀之 ﾋﾃﾞﾕｷ\n",
      "2 2 亜美 ｱﾐ\n",
      "1 1 悠人 ﾕｳﾄ\n",
      "2 2 涼子 ﾘｮｳｺ\n",
      "1 2 陸 ﾘｸ !\n",
      "1 1 正太 ｼｮｳﾀ\n",
      "2 2 藍 ｱｲ\n",
      "2 2 春奈 ﾊﾙﾅ\n",
      "1 1 真也 ｼﾝﾔ\n",
      "2 2 千裕 ﾁﾋﾛ\n",
      "1 2 直幸 ﾅｵﾕｷ !\n",
      "2 2 和枝 ｶｽﾞｴ\n",
      "2 2 玲奈 ﾚｲﾅ\n",
      "1 1 智彦 ﾄﾓﾋｺ\n",
      "2 1 真琴 ﾏｺﾄ !\n",
      "1 1 侑樹 ﾕｳｷ\n",
      "1 1 圭亮 ｹｲｽｹ\n",
      "1 1 大輝 ﾀｲｷ\n",
      "1 1 俊之 ﾄｼﾕｷ\n",
      "1 1 竜一 ﾘｭｳｲﾁ\n",
      "1 1 隆介 ﾘｭｳｽｹ\n",
      "2 2 裕子 ﾕｳｺ\n",
      "1 1 博幸 ﾋﾛﾕｷ\n",
      "2 2 怜奈 ﾚｲﾅ\n",
      "1 1 大地 ﾀﾞｲﾁ\n",
      "1 1 拓人 ﾀｸﾄ\n",
      "2 2 優香 ﾕｳｶ\n",
      "2 2 智美 ﾄﾓﾐ\n",
      "2 2 早苗 ｻﾅｴ\n",
      "1 1 諒 ﾘｮｳ\n",
      "2 2 美香 ﾐｶ\n",
      "2 2 友香 ﾕｶ\n",
      "2 2 綾音 ｱﾔﾈ\n",
      "1 1 圭佑 ｹｲｽｹ\n",
      "1 1 宏明 ﾋﾛｱｷ\n",
      "1 1 優一 ﾕｳｲﾁ\n",
      "1 1 俊輔 ｼｭﾝｽｹ\n",
      "2 2 千佳 ﾁｶ\n",
      "1 1 俊樹 ﾄｼｷ\n",
      "1 1 翔太 ｼｮｳﾀ\n",
      "2 2 香奈 ｶﾅ\n",
      "1 1 雄也 ﾕｳﾔ\n",
      "2 2 真奈 ﾏﾅ\n",
      "2 2 彩華 ｱﾔｶ\n",
      "1 1 大夢 ﾋﾛﾑ\n",
      "1 1 翔一 ｼｮｳｲﾁ\n",
      "1 1 悠介 ﾕｳｽｹ\n",
      "2 2 菫 ｽﾐﾚ\n",
      "2 2 桃香 ﾓﾓｶ\n",
      "1 1 裕二 ﾕｳｼﾞ\n",
      "2 2 理奈 ﾘﾅ\n",
      "1 1 和樹 ｶｽﾞｷ\n",
      "2 2 菜美 ﾅﾐ\n",
      "1 1 健一郎 ｹﾝｲﾁﾛｳ\n",
      "2 2 節子 ｾﾂｺ\n",
      "1 1 勇介 ﾕｳｽｹ\n",
      "1 1 尚輝 ﾅｵｷ\n",
      "1 1 裕樹 ﾕｳｷ\n",
      "1 1 雅人 ﾏｻﾄ\n",
      "1 1 宏幸 ﾋﾛﾕｷ\n",
      "2 2 貴美子 ｷﾐｺ\n",
      "2 2 瞳 ﾋﾄﾐ\n",
      "1 2 瑞樹 ﾐｽﾞｷ !\n",
      "1 1 涼平 ﾘｮｳﾍｲ\n",
      "1 1 諭 ｻﾄｼ\n",
      "1 1 樹 ﾀﾂｷ\n",
      "1 1 大樹 ﾋﾛｷ\n",
      "1 1 裕介 ﾕｳｽｹ\n",
      "1 1 智貴 ﾄﾓｷ\n",
      "1 1 勇 ｲｻﾑ\n",
      "2 2 なつみ ﾅﾂﾐ\n",
      "2 2 紗希 ｻｷ\n",
      "1 1 佑樹 ﾕｳｷ\n",
      "1 1 佑介 ﾕｳｽｹ\n",
      "2 2 久子 ﾋｻｺ\n",
      "2 2 のぞみ ﾉｿﾞﾐ\n",
      "2 2 由美 ﾕﾐ\n",
      "2 2 真弓 ﾏﾕﾐ\n",
      "1 1 蒼太 ｿｳﾀ\n",
      "2 2 美由紀 ﾐﾕｷ\n",
      "2 2 理紗 ﾘｻ\n",
      "2 2 里紗 ﾘｻ\n",
      "1 1 茂 ｼｹﾞﾙ\n",
      "2 2 郁美 ｲｸﾐ\n",
      "1 1 優人 ﾕｳﾄ\n",
      "2 2 智子 ﾄﾓｺ\n",
      "1 1 和彦 ｶｽﾞﾋｺ\n",
      "1 1 大智 ﾀﾞｲﾁ\n",
      "1 1 俊太 ｼｭﾝﾀ\n",
      "1 1 憲司 ｹﾝｼﾞ\n",
      "1 1 祐希 ﾕｳｷ\n",
      "1 1 慎 ｼﾝ\n",
      "2 2 春香 ﾊﾙｶ\n",
      "2 2 愛理 ｴﾘ\n",
      "2 2 桂子 ｹｲｺ\n",
      "1 1 武志 ﾀｹｼ\n",
      "2 2 有紀 ﾕｷ\n",
      "2 2 佳奈 ｶﾅ\n",
      "1 1 史也 ﾌﾐﾔ\n",
      "1 1 弘明 ﾋﾛｱｷ\n",
      "2 2 莉子 ﾘｺ\n",
      "1 1 亮太 ﾘｮｳﾀ\n",
      "2 2 栞奈 ｶﾝﾅ\n",
      "2 2 こころ ｺｺﾛ\n",
      "1 1 凌平 ﾘｮｳﾍｲ\n",
      "1 1 康介 ｺｳｽｹ\n",
      "2 2 朱里 ｱｶﾘ\n",
      "1 2 海 ｶｲ !\n",
      "1 1 祥平 ｼｮｳﾍｲ\n",
      "1 1 大雅 ﾀｲｶﾞ\n",
      "1 1 智史 ｻﾄｼ\n",
      "2 2 千里 ﾁｻﾄ\n",
      "2 2 しおり ｼｵﾘ\n",
      "2 2 理絵 ﾘｴ\n",
      "1 1 将吾 ｼｮｳｺﾞ\n",
      "2 2 真菜 ﾏﾅ\n",
      "1 1 尚希 ﾅｵｷ\n",
      "1 1 幸雄 ﾕｷｵ\n",
      "1 1 俊哉 ﾄｼﾔ\n",
      "1 1 康平 ｺｳﾍｲ\n",
      "1 1 良介 ﾘｮｳｽｹ\n",
      "1 1 武 ﾀｹﾙ\n",
      "2 2 良美 ﾖｼﾐ\n"
     ]
    }
   ],
   "source": [
    "# テストデータの判定結果を具体的に眺めてみる。\n",
    "pred_kana = clf.predict(X_test_vec_kana)\n",
    "for i in range(len(X_test)):\n",
    "    if y_test.iloc[i] == pred_kana[i]:\n",
    "        print(y_test.iloc[i], pred_kana[i], X_test.iloc[i,0], X_test.iloc[i,1])\n",
    "    else:\n",
    "        print(y_test.iloc[i], pred_kana[i], X_test.iloc[i,0], X_test.iloc[i,1], '!')\n"
   ]
  },
  {
   "cell_type": "markdown",
   "metadata": {
    "collapsed": true
   },
   "source": [
    "## 名前（漢字）名前（カナ）の両方をngramに変換した特徴量を使って性別判定する"
   ]
  },
  {
   "cell_type": "code",
   "execution_count": 77,
   "metadata": {},
   "outputs": [],
   "source": [
    "# 特徴量 X_train_vec_kanji と X_train_vec_kana を横につなげる。（hstack）\n",
    "# 実は X_train_vec_kanji と X_train_vec_kana は疎行列（sparse matrix）という形式で格納されている。\n",
    "# 疎行列を横につなげるには scipy.sparse.hstack を使う。\n",
    "import scipy\n",
    "X_train_vec = scipy.sparse.hstack([X_train_vec_kanji, X_train_vec_kana])\n",
    "X_test_vec =scipy.sparse.hstack([X_test_vec_kanji, X_test_vec_kana])"
   ]
  },
  {
   "cell_type": "code",
   "execution_count": 78,
   "metadata": {},
   "outputs": [
    {
     "name": "stdout",
     "output_type": "stream",
     "text": [
      "['々', '々子', '々美', 'あ', 'あか', 'あす', 'あゆ', 'あり', 'い', 'いず', 'いづ', 'お', 'おり', 'おる', 'か', 'かお', 'かね', 'かり', 'かる', 'き', 'く', 'くら', 'くる', 'ぐ', 'ぐみ', 'さ', 'さお', 'さく', 'さと', 'さゆ', 'し', 'しの', 'す', 'すか', 'すみ', 'ず', 'ずき', 'ずみ', 'た', 'づ', 'づき', 'づみ', 'と', 'とみ', 'ど', 'どか', 'な', 'なた', 'なの', 'ね', 'の', 'のか', 'のぶ', 'のり', 'は', 'はる', 'ひ', 'ひか', 'ひと', 'ひな', 'ひろ', 'ぶ', 'ほ', 'ほの', 'ま', 'まど', 'まゆ', 'み', 'みず', 'みづ', 'みの', 'みゆ', 'みれ', 'め', 'めぐ', 'ゆ', 'ゆか', 'ゆき', 'ゆみ', 'ゆり', 'ら', 'り', 'りさ', 'る', 'るか', 'るみ', 'れ', 'ろ', 'ろみ', '一', '一也', '一哉', '一夫', '一希', '一平', '一幸', '一弘', '一彦', '一成', '一樹', '一男', '一真', '一貴', '一輝', '一郎', '一馬', '七', '七海', '乃', '久', '之', '之介', '也', '二', '亘', '亜', '亜季', '亜実', '亜希', '亜由', '亜紀', '亨', '京', '京介', '京子', '京香', '亮', '亮介', '亮佑', '亮太', '亮平', '亮祐', '亮輔', '人', '仁', '仁志', '仁美', '介', '代', '代子', '伸', '伸一', '伸也', '伸子', '佐', '佐子', '佐知', '佑', '佑太', '佑斗', '佑輔', '佑香', '作', '佳', '佳代', '佳祐', '侑', '侑也', '依', '俊', '俊一', '俊也', '俊幸', '俊彦', '保', '信', '信一', '信之', '信吾', '信子', '信行', '修', '修一', '修司', '修平', '健', '健一', '健二', '健人', '健介', '健司', '健吾', '健太', '健志', '健斗', '健治', '優', '優也', '優介', '優作', '優佳', '優大', '優太', '優奈', '優子', '優希', '優斗', '優樹', '優美', '優花', '優菜', '優衣', '優貴', '優輝', '優香', '元', '元気', '充', '光', '光一', '光司', '光平', '光男', '光輝', '克', '克彦', '兵', '典', '典子', '凌', '凌太', '凜', '利', '剛', '剛史', '創', '力', '力也', '功', '加', '加奈', '努', '勇', '勇一', '勇也', '勇人', '勇太', '勇希', '勇斗', '勇樹', '勇真', '勇貴', '勇輝', '勉', '勝', '勝也', '勝利', '勲', '北', '北斗', '匠', '千', '千夏', '千尋', '千恵', '千春', '千晶', '千秋', '千穂', '千鶴', '卓', '卓也', '卓哉', '南', '博', '博之', '博子', '博文', '博樹', '友', '友也', '友和', '友哉', '友子', '友紀', '友美', '友里', '友香', '史', '史子', '史弥', '史織', '司', '合', '合子', '向', '向子', '吾', '周', '周平', '和', '和久', '和之', '和也', '和代', '和博', '和哉', '和夫', '和子', '和宏', '和希', '和幸', '和広', '和弘', '和恵', '和明', '和真', '和磨', '和美', '和貴', '和輝', '咲', '咲希', '咲良', '哉', '哲', '哲也', '哲平', '唯', '啓', '啓介', '啓太', '啓子', '圭', '圭介', '圭吾', '圭太', '圭子', '圭祐', '士', '壮', '壮太', '夏', '夏奈', '夏子', '夏実', '夏海', '夏美', '夢', '大', '大介', '大吾', '大和', '大志', '大悟', '大成', '大樹', '大河', '大祐', '大貴', '大輔', '大輝', '太', '太一', '太朗', '太郎', '太陽', '夫', '央', '奈', '奈々', '奈央', '奈子', '奈月', '奈津', '奈緒', '奈美', '好', '好美', '妙', '妙子', '子', '孝', '孝一', '孝之', '孝太', '孝夫', '孝子', '孝平', '孝明', '孝行', '季', '学', '守', '宏', '宏樹', '宏美', '実', '実咲', '寛', '寛人', '寛太', '寛子', '寧', '寧々', '将', '将也', '将人', '将司', '将大', '将太', '将平', '尋', '尚', '尚也', '尚人', '尚子', '尚樹', '尚美', '峻', '崇', '巌', '巧', '己', '巳', '帆', '希', '希子', '希望', '希美', '平', '幸', '幸一', '幸代', '幸司', '幸太', '幸子', '幸平', '幸恵', '幸治', '幸男', '幸輝', '幹', '幹太', '広', '広大', '広樹', '広美', '康', '康之', '康太', '康子', '康弘', '康裕', '廉', '弓', '弘', '弘子', '弘樹', '弘美', '弥', '弥生', '強', '彦', '彩', '彩加', '彩夏', '彩子', '彩花', '彩菜', '彩音', '彬', '彰', '徳', '徹', '徹也', '忍', '志', '志保', '志帆', '志穂', '志織', '忠', '怜', '怜央', '恭', '恭兵', '恭子', '恭平', '恵', '恵一', '恵太', '恵子', '恵理', '恵美', '恵里', '悟', '悠', '悠太', '悠平', '悠斗', '悠樹', '悠真', '悠貴', '悦', '悦子', '愛', '愛子', '愛実', '愛弓', '愛梨', '愛理', '愛美', '愛莉', '愛里', '愛香', '慎', '慎一', '慎也', '慎吾', '慎太', '慧', '慶', '慶太', '成', '成美', '拓', '拓也', '拓哉', '拓夢', '拓実', '拓己', '拓巳', '拓弥', '拓斗', '拓朗', '拓海', '拓真', '拓矢', '拓磨', '拓郎', '拓馬', '摘', '敦', '敦也', '敦史', '敦子', '敬', '敬太', '敬子', '文', '文子', '斗', '新', '日', '日向', '日香', '早', '早希', '早紀', '早織', '昂', '昂平', '昇', '昇平', '昌', '昌也', '昌子', '昌平', '昌樹', '昌美', '明', '明宏', '明彦', '明日', '明美', '明里', '春', '春佳', '春樹', '春美', '春花', '春菜', '昭', '昭彦', '晃', '晃一', '晃太', '晃平', '景', '景子', '晴', '晴美', '晴輝', '晴香', '晶', '晶子', '智', '智也', '智博', '智哉', '智大', '智子', '智幸', '智弘', '智恵', '智洋', '智紀', '智裕', '暁', '月', '有', '有希', '有沙', '有紗', '有里', '有香', '朋', '朋子', '朋美', '朗', '望', '未', '未央', '未来', '朱', '朱音', '杏', '杏奈', '来', '栄', '栄子', '栄治', '栞', '桃', '桃佳', '桃子', '桃花', '桜', '桜子', '梓', '梨', '梨乃', '梨沙', '梨紗', '梨菜', '楓', '樹', '樹里', '正', '正人', '正和', '正子', '正幸', '正彦', '正明', '正樹', '正義', '武', '武史', '歩', '歩夢', '歩美', '毅', '気', '汐', '汐里', '沙', '沙織', '沙耶', '河', '治', '泉', '波', '洋', '洋一', '洋介', '洋子', '洋平', '洋輔', '津', '津子', '津美', '浩', '浩一', '浩之', '浩二', '浩史', '浩司', '浩子', '浩平', '浩美', '海', '海人', '海斗', '海渡', '涼', '涼介', '涼太', '涼香', '淳', '淳一', '淳也', '淳子', '淳平', '清', '清美', '渉', '渚', '渡', '満', '滉', '滉平', '潤', '潤一', '澄', '照', '照美', '玲', '玲奈', '玲子', '玲菜', '理', '理子', '理恵', '理沙', '琢', '琢也', '琢磨', '琴', '琴美', '琴音', '瑞', '瑞季', '瑞希', '瑞穂', '瑠', '瑠奈', '瑠美', '瑠菜', '生', '由', '由佳', '由紀', '由美', '由衣', '由香', '男', '留', '留美', '登', '百', '百合', '百恵', '直', '直也', '直人', '直哉', '直子', '直希', '直斗', '直紀', '直美', '直輝', '省', '省吾', '真', '真一', '真二', '真人', '真依', '真優', '真司', '真吾', '真太', '真奈', '真子', '真実', '真帆', '真希', '真悟', '真樹', '真歩', '真澄', '真理', '真由', '真紀', '真美', '真衣', '瞬', '瞭', '矢', '知', '知也', '知子', '知美', '磨', '礼', '礼子', '祐', '祐一', '祐也', '祐介', '祐哉', '祐太', '祐子', '祐樹', '祐美', '祐貴', '祐輔', '祐輝', '祥', '祥子', '秀', '秀一', '秀人', '秀和', '秀太', '秀平', '秀明', '秀樹', '秀美', '秋', '稔', '稜', '穂', '竜', '竜之', '竜也', '竜二', '竜太', '竜平', '竜馬', '章', '篤', '篤史', '篤志', '紀', '紀子', '紅', '純', '純一', '純也', '純子', '純平', '紗', '紗季', '紗良', '結', '結花', '結衣', '絵', '絵理', '絵美', '絵里', '綾', '綾乃', '綾子', '綾菜', '綾香', '緒', '緒子', '緒美', '織', '美', '美代', '美佐', '美保', '美優', '美加', '美南', '美和', '美奈', '美子', '美帆', '美希', '美幸', '美恵', '美智', '美月', '美桜', '美樹', '美沙', '美波', '美穂', '美紀', '美紅', '美緒', '美羽', '美菜', '美里', '美雪', '義', '義人', '羽', '翔', '翔也', '翔吾', '翔大', '翔太', '翔子', '翔平', '翔馬', '翠', '耕', '耕平', '耶', '聖', '聖也', '聖人', '聖子', '聡', '聡子', '肇', '舜', '舞', '舞子', '航', '航大', '航太', '航平', '良', '良太', '良平', '良輔', '花', '花奈', '花音', '芽', '芽衣', '若', '若菜', '英', '英一', '英之', '英二', '英子', '英幸', '英明', '英樹', '英雄', '茂', '茂樹', '茉', '茉奈', '茜', '莉', '莉央', '莉奈', '莉緒', '莉菜', '菜', '菜々', '菜央', '菜子', '菜摘', '菜月', '菜緒', '華', '華奈', '萌', '萌子', '萌絵', '萌香', '葉', '葉子', '葉月', '葵', '蓮', '薫', '蘭', '行', '衛', '衣', '衣子', '裕', '裕一', '裕之', '裕也', '裕司', '裕哉', '裕太', '裕子', '裕幸', '裕紀', '裕美', '裕貴', '要', '覚', '詩', '詩織', '誠', '誠一', '誠二', '誠司', '謙', '謙太', '護', '豊', '豪', '貴', '貴之', '貴也', '貴博', '貴士', '貴大', '貴子', '貴幸', '貴弘', '貴彦', '貴志', '貴裕', '賢', '賢一', '賢二', '賢人', '賢太', '賢治', '輔', '輝', '辰', '辰徳', '透', '進', '達', '達也', '達哉', '達彦', '達矢', '達郎', '遥', '遥香', '遼', '遼太', '遼平', '郁', '郁也', '郁弥', '郎', '里', '里佳', '里奈', '里恵', '里沙', '里菜', '里香', '陸', '陸斗', '陽', '陽一', '陽介', '陽太', '陽子', '陽平', '陽菜', '隆', '隆一', '隆之', '隆太', '隆宏', '隆志', '隆行', '隼', '隼人', '隼斗', '雄', '雄一', '雄二', '雄介', '雄大', '雄平', '雄斗', '雄貴', '雅', '雅之', '雅也', '雅代', '雅子', '雅弘', '雅彦', '雅貴', '雪', '雪乃', '静', '静香', '音', '響', '順', '順一', '順子', '風', '風香', '颯', '颯人', '颯太', '颯斗', '飛', '飛翔', '香', '香織', '香里', '馬', '駿', '高', '高志', '魁', '魁人', '鶴', '麗', '麗奈', '麻', '麻子', '麻紀', '麻美', '麻衣', '麻里', '龍', '龍一', '龍之', '龍二', '龍太', '龍平', '龍馬', 'ｭ', 'ｭｳ', 'ｭﾘ', 'ｭﾝ', 'ｮ', 'ｮｳ', 'ｯ', 'ｯﾍ', 'ｱ', 'ｱｲ', 'ｱｵ', 'ｱｶ', 'ｱｷ', 'ｱｹ', 'ｱｻ', 'ｱｽ', 'ｱﾂ', 'ｱﾐ', 'ｱﾔ', 'ｱﾕ', 'ｱﾗ', 'ｱﾘ', 'ｱﾝ', 'ｲ', 'ｲｯ', 'ｲｲ', 'ｲｶ', 'ｲｷ', 'ｲｺ', 'ｲｻ', 'ｲｼ', 'ｲｽ', 'ｲｾ', 'ｲﾀ', 'ｲﾁ', 'ｲﾂ', 'ｲﾄ', 'ｲﾅ', 'ｲﾔ', 'ｲﾖ', 'ｲﾘ', 'ｲﾜ', 'ｳ', 'ｳｲ', 'ｳｶ', 'ｳｷ', 'ｳｺ', 'ｳｻ', 'ｳｼ', 'ｳｽ', 'ｳﾀ', 'ｳﾄ', 'ｳﾅ', 'ｳﾉ', 'ｳﾍ', 'ｳﾏ', 'ｳﾔ', 'ｴ', 'ｴｲ', 'ｴｶ', 'ｴｺ', 'ｴﾂ', 'ｴﾃ', 'ｴﾐ', 'ｴﾘ', 'ｵ', 'ｵｲ', 'ｵｷ', 'ｵｺ', 'ｵｻ', 'ｵﾄ', 'ｵﾐ', 'ｵﾔ', 'ｵﾘ', 'ｵﾙ', 'ｶ', 'ｶｱ', 'ｶｲ', 'ｶｴ', 'ｶｵ', 'ｶｹ', 'ｶｺ', 'ｶｻ', 'ｶｼ', 'ｶｽ', 'ｶﾂ', 'ｶﾅ', 'ｶﾈ', 'ｶﾉ', 'ｶﾋ', 'ｶﾔ', 'ｶﾕ', 'ｶﾖ', 'ｶﾗ', 'ｶﾘ', 'ｶﾙ', 'ｶﾝ', 'ｶﾞ', 'ｷ', 'ｷｮ', 'ｷｴ', 'ｷｵ', 'ｷｺ', 'ｷﾉ', 'ｷﾋ', 'ｷﾔ', 'ｷﾖ', 'ｷﾗ', 'ｷﾞ', 'ｸ', 'ｸﾄ', 'ｸﾏ', 'ｸﾐ', 'ｸﾑ', 'ｸﾔ', 'ｸﾗ', 'ｸﾙ', 'ｸﾛ', 'ｸﾞ', 'ｹ', 'ｹｲ', 'ｹｼ', 'ｹﾐ', 'ｹﾙ', 'ｹﾝ', 'ｹﾞ', 'ｺ', 'ｺｳ', 'ｺﾄ', 'ｺﾞ', 'ｻ', 'ｻｱ', 'ｻｵ', 'ｻｶ', 'ｻｷ', 'ｻｸ', 'ｻｺ', 'ｻｼ', 'ｻﾁ', 'ｻﾄ', 'ｻﾋ', 'ｻﾐ', 'ｻﾑ', 'ｻﾔ', 'ｻﾕ', 'ｻﾖ', 'ｻﾗ', 'ｻﾙ', 'ｼ', 'ｼｭ', 'ｼｮ', 'ｼｵ', 'ｼｹ', 'ｼｺ', 'ｼｽ', 'ｼﾄ', 'ｼﾉ', 'ｼﾋ', 'ｼﾎ', 'ｼﾐ', 'ｼﾔ', 'ｼﾕ', 'ｼﾝ', 'ｼﾞ', 'ｽ', 'ｽｶ', 'ｽｸ', 'ｽｹ', 'ｽｺ', 'ｽｽ', 'ｽﾋ', 'ｽﾐ', 'ｽﾑ', 'ｽﾕ', 'ｽﾞ', 'ｾ', 'ｾｲ', 'ｿ', 'ｿｳ', 'ｿﾞ', 'ﾀ', 'ﾀｲ', 'ﾀｴ', 'ﾀｶ', 'ﾀｸ', 'ﾀｹ', 'ﾀﾀ', 'ﾀﾂ', 'ﾀﾓ', 'ﾀﾙ', 'ﾀﾛ', 'ﾀﾞ', 'ﾁ', 'ﾁｱ', 'ﾁｴ', 'ﾁｶ', 'ﾁｺ', 'ﾁﾂ', 'ﾁﾅ', 'ﾁﾊ', 'ﾁﾋ', 'ﾁﾎ', 'ﾁﾖ', 'ﾁﾛ', 'ﾂ', 'ﾂｵ', 'ﾂｶ', 'ﾂｷ', 'ﾂｺ', 'ﾂｼ', 'ﾂﾄ', 'ﾂﾉ', 'ﾂﾊ', 'ﾂﾋ', 'ﾂﾐ', 'ﾂﾔ', 'ﾂﾖ', 'ﾂﾙ', 'ﾂﾛ', 'ﾂﾞ', 'ﾃ', 'ﾃｯ', 'ﾃﾂ', 'ﾃﾙ', 'ﾃﾞ', 'ﾄ', 'ﾄｵ', 'ﾄｺ', 'ﾄｼ', 'ﾄﾈ', 'ﾄﾐ', 'ﾄﾑ', 'ﾄﾓ', 'ﾄﾙ', 'ﾄﾞ', 'ﾅ', 'ﾅｵ', 'ﾅｷ', 'ﾅｺ', 'ﾅﾀ', 'ﾅﾂ', 'ﾅﾅ', 'ﾅﾉ', 'ﾅﾌ', 'ﾅﾐ', 'ﾅﾒ', 'ﾅﾘ', 'ﾅﾙ', 'ﾈ', 'ﾈﾈ', 'ﾉ', 'ﾉｶ', 'ﾉｽ', 'ﾉｿ', 'ﾉﾌ', 'ﾉﾎ', 'ﾉﾘ', 'ﾉﾙ', 'ﾉﾝ', 'ﾊ', 'ﾊｼ', 'ﾊﾂ', 'ﾊﾔ', 'ﾊﾙ', 'ﾊﾞ', 'ﾋ', 'ﾋｶ', 'ﾋｺ', 'ﾋｻ', 'ﾋﾃ', 'ﾋﾄ', 'ﾋﾅ', 'ﾋﾋ', 'ﾋﾛ', 'ﾋﾞ', 'ﾌ', 'ﾌｳ', 'ﾌﾐ', 'ﾌﾞ', 'ﾍ', 'ﾍｲ', 'ﾍﾟ', 'ﾎ', 'ﾎｸ', 'ﾎﾉ', 'ﾎﾞ', 'ﾏ', 'ﾏｲ', 'ﾏｷ', 'ﾏｺ', 'ﾏｻ', 'ﾏｽ', 'ﾏﾄ', 'ﾏﾅ', 'ﾏﾎ', 'ﾏﾐ', 'ﾏﾓ', 'ﾏﾕ', 'ﾏﾘ', 'ﾐ', 'ﾐｳ', 'ﾐｴ', 'ﾐｵ', 'ﾐｶ', 'ﾐｷ', 'ﾐｸ', 'ﾐｺ', 'ﾐｻ', 'ﾐｽ', 'ﾐﾁ', 'ﾐﾂ', 'ﾐﾄ', 'ﾐﾅ', 'ﾐﾉ', 'ﾐﾎ', 'ﾐﾔ', 'ﾐﾕ', 'ﾐﾖ', 'ﾐﾗ', 'ﾐﾚ', 'ﾐﾜ', 'ﾑ', 'ﾒ', 'ﾒｲ', 'ﾒｸ', 'ﾓ', 'ﾓｴ', 'ﾓｶ', 'ﾓｷ', 'ﾓｺ', 'ﾓﾂ', 'ﾓﾋ', 'ﾓﾐ', 'ﾓﾓ', 'ﾓﾔ', 'ﾓﾕ', 'ﾓﾙ', 'ﾔ', 'ﾔｶ', 'ﾔｺ', 'ﾔｽ', 'ﾔﾃ', 'ﾔﾄ', 'ﾔﾅ', 'ﾔﾈ', 'ﾔﾉ', 'ﾔﾋ', 'ﾔﾏ', 'ﾔﾖ', 'ﾕ', 'ﾕｲ', 'ﾕｳ', 'ﾕｶ', 'ﾕｷ', 'ﾕﾀ', 'ﾕﾐ', 'ﾕﾑ', 'ﾕﾘ', 'ﾖ', 'ﾖｲ', 'ﾖｳ', 'ﾖｺ', 'ﾖｼ', 'ﾖﾐ', 'ﾗ', 'ﾗｲ', 'ﾗｺ', 'ﾗﾀ', 'ﾗﾝ', 'ﾘ', 'ﾘｭ', 'ﾘｮ', 'ﾘｴ', 'ﾘｵ', 'ﾘｶ', 'ﾘｷ', 'ﾘｸ', 'ﾘｺ', 'ﾘｻ', 'ﾘﾅ', 'ﾘﾉ', 'ﾘﾝ', 'ﾙ', 'ﾙｶ', 'ﾙｷ', 'ﾙﾅ', 'ﾙﾐ', 'ﾚ', 'ﾚｲ', 'ﾚｵ', 'ﾚﾅ', 'ﾚﾝ', 'ﾛ', 'ﾛｳ', 'ﾛｷ', 'ﾛｺ', 'ﾛｼ', 'ﾛﾄ', 'ﾛﾌ', 'ﾛﾐ', 'ﾛﾕ', 'ﾜ', 'ﾜｵ', 'ﾜｶ', 'ﾜｺ', 'ﾜﾀ', 'ﾝ', 'ﾝｲ', 'ﾝｷ', 'ﾝｺ', 'ﾝｼ', 'ﾝｽ', 'ﾝﾀ', 'ﾝﾄ', 'ﾝﾅ', 'ﾝﾍ', 'ﾝﾔ', 'ﾞ', 'ﾞｭ', 'ﾞｱ', 'ﾞｲ', 'ﾞｳ', 'ﾞｴ', 'ﾞｵ', 'ﾞｶ', 'ﾞｷ', 'ﾞｺ', 'ﾞｻ', 'ﾞｼ', 'ﾞﾄ', 'ﾞﾅ', 'ﾞﾋ', 'ﾞﾎ', 'ﾞﾏ', 'ﾞﾐ', 'ﾞﾑ', 'ﾞﾒ', 'ﾞﾔ', 'ﾞﾕ', 'ﾞﾖ', 'ﾞﾘ', 'ﾞﾙ', 'ﾞﾝ', 'ﾟ', 'ﾟｲ']\n"
     ]
    }
   ],
   "source": [
    "# 参考に特徴量名を取り出して眺めてみる。\n",
    "feature = feature_kanji + feature_kana\n",
    "print(feature)"
   ]
  },
  {
   "cell_type": "code",
   "execution_count": 79,
   "metadata": {},
   "outputs": [
    {
     "name": "stdout",
     "output_type": "stream",
     "text": [
      "翔吾 ｼｮｳｺﾞ 0 々 0\n",
      "翔吾 ｼｮｳｺﾞ 100 一男 0\n",
      "翔吾 ｼｮｳｺﾞ 200 優菜 0\n",
      "翔吾 ｼｮｳｺﾞ 287 吾 1\n",
      "翔吾 ｼｮｳｺﾞ 300 和希 0\n",
      "翔吾 ｼｮｳｺﾞ 400 将太 0\n",
      "翔吾 ｼｮｳｺﾞ 500 愛梨 0\n",
      "翔吾 ｼｮｳｺﾞ 600 月 0\n",
      "翔吾 ｼｮｳｺﾞ 700 満 0\n",
      "翔吾 ｼｮｳｺﾞ 800 祐輝 0\n",
      "翔吾 ｼｮｳｺﾞ 885 翔 1\n",
      "翔吾 ｼｮｳｺﾞ 887 翔吾 1\n",
      "翔吾 ｼｮｳｺﾞ 900 聖子 0\n",
      "翔吾 ｼｮｳｺﾞ 1000 貴志 0\n",
      "翔吾 ｼｮｳｺﾞ 1100 麻 0\n",
      "翔吾 ｼｮｳｺﾞ 1117 ｮ 1\n",
      "翔吾 ｼｮｳｺﾞ 1118 ｮｳ 1\n",
      "翔吾 ｼｮｳｺﾞ 1155 ｳ 1\n",
      "翔吾 ｼｮｳｺﾞ 1159 ｳｺ 1\n",
      "翔吾 ｼｮｳｺﾞ 1200 ｶﾈ 0\n",
      "翔吾 ｼｮｳｺﾞ 1239 ｺ 1\n",
      "翔吾 ｼｮｳｺﾞ 1242 ｺﾞ 1\n",
      "翔吾 ｼｮｳｺﾞ 1261 ｼ 1\n",
      "翔吾 ｼｮｳｺﾞ 1263 ｼｮ 1\n",
      "翔吾 ｼｮｳｺﾞ 1300 ﾀﾂ 0\n",
      "翔吾 ｼｮｳｺﾞ 1400 ﾏｲ 0\n",
      "翔吾 ｼｮｳｺﾞ 1500 ﾚ 0\n",
      "翔吾 ｼｮｳｺﾞ 1530 ﾞ 1\n"
     ]
    }
   ],
   "source": [
    "# 参考に変換後の訓練データを眺めてみる。\n",
    "# 特徴量を全部見るのは量が多くて大変なので100個おきに飛ばしながら\n",
    "# ほとんどの要素は0だが、たまに1が現れるので、その場合はプリントする。\n",
    "\n",
    "i = 0 # 訓練データのi番目に注目する。\n",
    "n = n_kanji + n_kana\n",
    "X_train_vec_array = X_train_vec.toarray()\n",
    "for j in range(n):\n",
    "    if j % 100 == 0:\n",
    "        print(X_train.iloc[i,0], X_train.iloc[i,1], j, feature[j], X_train_vec_array[i,j])\n",
    "    if X_train_vec_array[i,j] != 0:\n",
    "        print(X_train.iloc[i,0], X_train.iloc[i,1], j, feature[j], X_train_vec_array[i,j])"
   ]
  },
  {
   "cell_type": "code",
   "execution_count": 80,
   "metadata": {},
   "outputs": [
    {
     "name": "stderr",
     "output_type": "stream",
     "text": [
      "C:\\Users\\mxs080\\anaconda3\\lib\\site-packages\\sklearn\\linear_model\\_logistic.py:762: ConvergenceWarning: lbfgs failed to converge (status=1):\n",
      "STOP: TOTAL NO. of ITERATIONS REACHED LIMIT.\n",
      "\n",
      "Increase the number of iterations (max_iter) or scale the data as shown in:\n",
      "    https://scikit-learn.org/stable/modules/preprocessing.html\n",
      "Please also refer to the documentation for alternative solver options:\n",
      "    https://scikit-learn.org/stable/modules/linear_model.html#logistic-regression\n",
      "  n_iter_i = _check_optimize_result(\n",
      "C:\\Users\\mxs080\\anaconda3\\lib\\site-packages\\sklearn\\linear_model\\_logistic.py:762: ConvergenceWarning: lbfgs failed to converge (status=1):\n",
      "STOP: TOTAL NO. of ITERATIONS REACHED LIMIT.\n",
      "\n",
      "Increase the number of iterations (max_iter) or scale the data as shown in:\n",
      "    https://scikit-learn.org/stable/modules/preprocessing.html\n",
      "Please also refer to the documentation for alternative solver options:\n",
      "    https://scikit-learn.org/stable/modules/linear_model.html#logistic-regression\n",
      "  n_iter_i = _check_optimize_result(\n",
      "C:\\Users\\mxs080\\anaconda3\\lib\\site-packages\\sklearn\\linear_model\\_logistic.py:762: ConvergenceWarning: lbfgs failed to converge (status=1):\n",
      "STOP: TOTAL NO. of ITERATIONS REACHED LIMIT.\n",
      "\n",
      "Increase the number of iterations (max_iter) or scale the data as shown in:\n",
      "    https://scikit-learn.org/stable/modules/preprocessing.html\n",
      "Please also refer to the documentation for alternative solver options:\n",
      "    https://scikit-learn.org/stable/modules/linear_model.html#logistic-regression\n",
      "  n_iter_i = _check_optimize_result(\n",
      "C:\\Users\\mxs080\\anaconda3\\lib\\site-packages\\sklearn\\linear_model\\_logistic.py:762: ConvergenceWarning: lbfgs failed to converge (status=1):\n",
      "STOP: TOTAL NO. of ITERATIONS REACHED LIMIT.\n",
      "\n",
      "Increase the number of iterations (max_iter) or scale the data as shown in:\n",
      "    https://scikit-learn.org/stable/modules/preprocessing.html\n",
      "Please also refer to the documentation for alternative solver options:\n",
      "    https://scikit-learn.org/stable/modules/linear_model.html#logistic-regression\n",
      "  n_iter_i = _check_optimize_result(\n",
      "C:\\Users\\mxs080\\anaconda3\\lib\\site-packages\\sklearn\\linear_model\\_logistic.py:762: ConvergenceWarning: lbfgs failed to converge (status=1):\n",
      "STOP: TOTAL NO. of ITERATIONS REACHED LIMIT.\n",
      "\n",
      "Increase the number of iterations (max_iter) or scale the data as shown in:\n",
      "    https://scikit-learn.org/stable/modules/preprocessing.html\n",
      "Please also refer to the documentation for alternative solver options:\n",
      "    https://scikit-learn.org/stable/modules/linear_model.html#logistic-regression\n",
      "  n_iter_i = _check_optimize_result(\n",
      "C:\\Users\\mxs080\\anaconda3\\lib\\site-packages\\sklearn\\linear_model\\_logistic.py:762: ConvergenceWarning: lbfgs failed to converge (status=1):\n",
      "STOP: TOTAL NO. of ITERATIONS REACHED LIMIT.\n",
      "\n",
      "Increase the number of iterations (max_iter) or scale the data as shown in:\n",
      "    https://scikit-learn.org/stable/modules/preprocessing.html\n",
      "Please also refer to the documentation for alternative solver options:\n",
      "    https://scikit-learn.org/stable/modules/linear_model.html#logistic-regression\n",
      "  n_iter_i = _check_optimize_result(\n",
      "C:\\Users\\mxs080\\anaconda3\\lib\\site-packages\\sklearn\\linear_model\\_logistic.py:762: ConvergenceWarning: lbfgs failed to converge (status=1):\n",
      "STOP: TOTAL NO. of ITERATIONS REACHED LIMIT.\n",
      "\n",
      "Increase the number of iterations (max_iter) or scale the data as shown in:\n",
      "    https://scikit-learn.org/stable/modules/preprocessing.html\n",
      "Please also refer to the documentation for alternative solver options:\n",
      "    https://scikit-learn.org/stable/modules/linear_model.html#logistic-regression\n",
      "  n_iter_i = _check_optimize_result(\n"
     ]
    }
   ],
   "source": [
    "# 機械学習する（パラメーターCを変えながら）\n",
    "clf = linear_model.LogisticRegression()\n",
    "C_range_exp = np.linspace(start=-10, stop=10, num=21)\n",
    "C_range = 10 ** C_range_exp\n",
    "all_scores_mean = []\n",
    "all_scores_std = []\n",
    "for C in C_range:\n",
    "    clf.C = C\n",
    "    scores = cross_val_score(clf, X_train_vec, y_train, cv=3)\n",
    "    all_scores_mean.append(scores.mean())\n",
    "    all_scores_std.append(scores.std())"
   ]
  },
  {
   "cell_type": "code",
   "execution_count": 81,
   "metadata": {},
   "outputs": [
    {
     "data": {
      "image/png": "[encoded data removed]",
      "text/plain": [
       "<Figure size 432x288 with 1 Axes>"
      ]
     },
     "metadata": {
      "needs_background": "light"
     },
     "output_type": "display_data"
    }
   ],
   "source": [
    "plt.plot(C_range_exp, all_scores_mean)\n",
    "plt.errorbar(C_range_exp, all_scores_mean, yerr=all_scores_std)\n",
    "plt.ylim(0, 1.2)\n",
    "plt.ylabel('accuracy')\n",
    "plt.xlabel('$\\log_{10}$(C)')\n",
    "plt.title('Accuracy for different values of C')\n",
    "plt.show()"
   ]
  },
  {
   "cell_type": "code",
   "execution_count": 82,
   "metadata": {},
   "outputs": [],
   "source": [
    "# 後でnp.argmaxを使いたいので、リストからnumpyアレイに変換しておく。\n",
    "all_scores_mean = np.array(all_scores_mean)\n",
    "all_scores_std = np.array(all_scores_std)"
   ]
  },
  {
   "cell_type": "code",
   "execution_count": 83,
   "metadata": {},
   "outputs": [
    {
     "data": {
      "text/plain": [
       "0.9612242057278073"
      ]
     },
     "execution_count": 83,
     "metadata": {},
     "output_type": "execute_result"
    }
   ],
   "source": [
    "all_scores_mean.max()"
   ]
  },
  {
   "cell_type": "code",
   "execution_count": 84,
   "metadata": {},
   "outputs": [
    {
     "data": {
      "text/plain": [
       "15"
      ]
     },
     "execution_count": 84,
     "metadata": {},
     "output_type": "execute_result"
    }
   ],
   "source": [
    "max_index = np.argmax(all_scores_mean)\n",
    "max_index"
   ]
  },
  {
   "cell_type": "code",
   "execution_count": 85,
   "metadata": {},
   "outputs": [
    {
     "name": "stderr",
     "output_type": "stream",
     "text": [
      "C:\\Users\\mxs080\\anaconda3\\lib\\site-packages\\sklearn\\linear_model\\_logistic.py:762: ConvergenceWarning: lbfgs failed to converge (status=1):\n",
      "STOP: TOTAL NO. of ITERATIONS REACHED LIMIT.\n",
      "\n",
      "Increase the number of iterations (max_iter) or scale the data as shown in:\n",
      "    https://scikit-learn.org/stable/modules/preprocessing.html\n",
      "Please also refer to the documentation for alternative solver options:\n",
      "    https://scikit-learn.org/stable/modules/linear_model.html#logistic-regression\n",
      "  n_iter_i = _check_optimize_result(\n"
     ]
    },
    {
     "data": {
      "text/plain": [
       "0.9613733905579399"
      ]
     },
     "execution_count": 85,
     "metadata": {},
     "output_type": "execute_result"
    }
   ],
   "source": [
    "# 最適なパラメーターをテストデータに適用する\n",
    "clf.C = 10 ** C_range_exp[max_index]\n",
    "clf.fit(X_train_vec, y_train)\n",
    "clf.score(X_test_vec, y_test)"
   ]
  },
  {
   "cell_type": "code",
   "execution_count": 86,
   "metadata": {},
   "outputs": [
    {
     "name": "stdout",
     "output_type": "stream",
     "text": [
      "2 2 道子 ﾐﾁｺ 道子\n",
      "2 2 彩佳 ｱﾔｶ 彩佳\n",
      "2 2 明子 ｱｷｺ 明子\n",
      "1 1 進一 ｼﾝｲﾁ 進一\n",
      "2 2 香里 ｶｵﾘ 香里\n",
      "1 1 大 ﾏｻﾙ 大\n",
      "2 2 萌 ﾓｴ 萌\n",
      "1 1 裕 ﾕｳ 裕\n",
      "1 1 駿太 ｼｭﾝﾀ 駿太\n",
      "1 1 丈 ｼﾞｮｳ 丈\n",
      "1 1 誠也 ｾｲﾔ 誠也\n",
      "2 2 美玖 ﾐｸ 美玖\n",
      "2 2 あずさ ｱｽﾞｻ あずさ\n",
      "2 1 真央 ﾏｵ 真央 !\n",
      "1 1 俊介 ｼｭﾝｽｹ 俊介\n",
      "1 1 慎之介 ｼﾝﾉｽｹ 慎之介\n",
      "1 1 駿介 ｼｭﾝｽｹ 駿介\n",
      "1 1 翼 ﾂﾊﾞｻ 翼\n",
      "1 1 雄太 ﾕｳﾀ 雄太\n",
      "1 1 知輝 ﾄﾓｷ 知輝\n",
      "1 1 直樹 ﾅｵｷ 直樹\n",
      "2 2 麻由 ﾏﾕ 麻由\n",
      "1 1 雄基 ﾕｳｷ 雄基\n",
      "2 2 友梨 ﾕﾘ 友梨\n",
      "2 2 里美 ｻﾄﾐ 里美\n",
      "2 2 千明 ﾁｱｷ 千明\n",
      "1 1 賢吾 ｹﾝｺﾞ 賢吾\n",
      "1 1 智之 ﾄﾓﾕｷ 智之\n",
      "1 1 大希 ﾀﾞｲｷ 大希\n",
      "2 2 理子 ﾘｺ 理子\n",
      "1 1 佳樹 ﾖｼｷ 佳樹\n",
      "2 2 千晴 ﾁﾊﾙ 千晴\n",
      "1 1 浩太郎 ｺｳﾀﾛｳ 浩太郎\n",
      "1 1 和行 ｶｽﾞﾕｷ 和行\n",
      "2 1 真澄 ﾏｽﾐ 真澄 !\n",
      "1 1 孝幸 ﾀｶﾕｷ 孝幸\n",
      "2 2 美佳 ﾐｶ 美佳\n",
      "2 2 夏希 ﾅﾂｷ 夏希\n",
      "1 1 寛之 ﾋﾛﾕｷ 寛之\n",
      "1 1 翔太朗 ｼｮｳﾀﾛｳ 翔太朗\n",
      "2 2 梨奈 ﾘﾅ 梨奈\n",
      "1 1 諒太 ﾘｮｳﾀ 諒太\n",
      "1 1 大志 ﾀﾞｲｼ 大志\n",
      "1 1 崚 ﾘｮｳ 崚\n",
      "1 2 克己 ｶﾂﾐ 克己 !\n",
      "1 1 猛 ﾀｹｼ 猛\n",
      "1 1 拓未 ﾀｸﾐ 拓未\n",
      "1 1 俊貴 ﾄｼｷ 俊貴\n",
      "1 1 智 ｻﾄｼ 智\n",
      "1 1 勝彦 ｶﾂﾋｺ 勝彦\n",
      "1 1 夏樹 ﾅﾂｷ 夏樹\n",
      "2 2 智子 ｻﾄｺ 智子\n",
      "2 2 莉帆 ﾘﾎ 莉帆\n",
      "1 1 謙一 ｹﾝｲﾁ 謙一\n",
      "1 1 正之 ﾏｻﾕｷ 正之\n",
      "1 1 洋 ﾋﾛｼ 洋\n",
      "2 2 真里奈 ﾏﾘﾅ 真里奈\n",
      "1 1 俊平 ｼｭﾝﾍﾟｲ 俊平\n",
      "2 2 百花 ﾓﾓｶ 百花\n",
      "2 2 聡美 ｻﾄﾐ 聡美\n",
      "1 1 雅史 ﾏｻｼ 雅史\n",
      "1 1 裕樹 ﾋﾛｷ 裕樹\n",
      "1 1 祐亮 ﾕｳｽｹ 祐亮\n",
      "2 2 沙紀 ｻｷ 沙紀\n",
      "1 1 謙 ｹﾝ 謙\n",
      "1 1 弘 ﾋﾛｼ 弘\n",
      "2 2 千絵 ﾁｴ 千絵\n",
      "1 1 智樹 ﾄﾓｷ 智樹\n",
      "2 2 由貴 ﾕｷ 由貴\n",
      "1 1 貴史 ﾀｶﾌﾐ 貴史\n",
      "1 1 雄輝 ﾕｳｷ 雄輝\n",
      "1 1 克哉 ｶﾂﾔ 克哉\n",
      "1 1 直弥 ﾅｵﾔ 直弥\n",
      "2 2 みなみ ﾐﾅﾐ みなみ\n",
      "2 2 久美子 ｸﾐｺ 久美子\n",
      "2 2 奈美 ﾅﾐ 奈美\n",
      "2 2 里香 ﾘｶ 里香\n",
      "2 2 久美 ｸﾐ 久美\n",
      "1 1 光太郎 ｺｳﾀﾛｳ 光太郎\n",
      "1 1 俊 ｼｭﾝ 俊\n",
      "1 1 孝志 ﾀｶｼ 孝志\n",
      "1 2 快 ｶｲ 快 !\n",
      "2 2 真由子 ﾏﾕｺ 真由子\n",
      "1 1 勇気 ﾕｳｷ 勇気\n",
      "2 2 百香 ﾓﾓｶ 百香\n",
      "2 2 小百合 ｻﾕﾘ 小百合\n",
      "1 2 岳 ｶﾞｸ 岳 !\n",
      "2 2 恵美 ﾒｸﾞﾐ 恵美\n",
      "1 1 祥太 ｼｮｳﾀ 祥太\n",
      "2 2 彩乃 ｱﾔﾉ 彩乃\n",
      "2 2 みどり ﾐﾄﾞﾘ みどり\n",
      "1 1 賢太 ｹﾝﾀ 賢太\n",
      "2 2 梨央 ﾘｵ 梨央\n",
      "1 1 健 ﾀｹﾙ 健\n",
      "1 1 遼太郎 ﾘｮｳﾀﾛｳ 遼太郎\n",
      "2 2 晴菜 ﾊﾙﾅ 晴菜\n",
      "2 2 彩香 ｱﾔｶ 彩香\n",
      "2 2 知佳 ﾁｶ 知佳\n",
      "1 1 貴史 ﾀｶｼ 貴史\n",
      "1 1 賢司 ｹﾝｼﾞ 賢司\n",
      "2 2 博美 ﾋﾛﾐ 博美\n",
      "2 2 ひより ﾋﾖﾘ ひより\n",
      "2 2 美奈子 ﾐﾅｺ 美奈子\n",
      "1 1 祐司 ﾕｳｼﾞ 祐司\n",
      "2 2 佳子 ﾖｼｺ 佳子\n",
      "2 2 美鈴 ﾐｽｽﾞ 美鈴\n",
      "1 1 龍司 ﾘｭｳｼﾞ 龍司\n",
      "2 2 美咲 ﾐｻｷ 美咲\n",
      "2 2 さやか ｻﾔｶ さやか\n",
      "2 2 律子 ﾘﾂｺ 律子\n",
      "1 1 秀之 ﾋﾃﾞﾕｷ 秀之\n",
      "2 2 亜美 ｱﾐ 亜美\n",
      "1 1 悠人 ﾕｳﾄ 悠人\n",
      "2 2 涼子 ﾘｮｳｺ 涼子\n",
      "1 2 陸 ﾘｸ 陸 !\n",
      "1 1 正太 ｼｮｳﾀ 正太\n",
      "2 2 藍 ｱｲ 藍\n",
      "2 2 春奈 ﾊﾙﾅ 春奈\n",
      "1 1 真也 ｼﾝﾔ 真也\n",
      "2 2 千裕 ﾁﾋﾛ 千裕\n",
      "1 1 直幸 ﾅｵﾕｷ 直幸\n",
      "2 2 和枝 ｶｽﾞｴ 和枝\n",
      "2 2 玲奈 ﾚｲﾅ 玲奈\n",
      "1 1 智彦 ﾄﾓﾋｺ 智彦\n",
      "2 1 真琴 ﾏｺﾄ 真琴 !\n",
      "1 1 侑樹 ﾕｳｷ 侑樹\n",
      "1 1 圭亮 ｹｲｽｹ 圭亮\n",
      "1 1 大輝 ﾀｲｷ 大輝\n",
      "1 1 俊之 ﾄｼﾕｷ 俊之\n",
      "1 1 竜一 ﾘｭｳｲﾁ 竜一\n",
      "1 1 隆介 ﾘｭｳｽｹ 隆介\n",
      "2 2 裕子 ﾕｳｺ 裕子\n",
      "1 1 博幸 ﾋﾛﾕｷ 博幸\n",
      "2 2 怜奈 ﾚｲﾅ 怜奈\n",
      "1 1 大地 ﾀﾞｲﾁ 大地\n",
      "1 1 拓人 ﾀｸﾄ 拓人\n",
      "2 2 優香 ﾕｳｶ 優香\n",
      "2 2 智美 ﾄﾓﾐ 智美\n",
      "2 2 早苗 ｻﾅｴ 早苗\n",
      "1 1 諒 ﾘｮｳ 諒\n",
      "2 2 美香 ﾐｶ 美香\n",
      "2 2 友香 ﾕｶ 友香\n",
      "2 2 綾音 ｱﾔﾈ 綾音\n",
      "1 1 圭佑 ｹｲｽｹ 圭佑\n",
      "1 1 宏明 ﾋﾛｱｷ 宏明\n",
      "1 1 優一 ﾕｳｲﾁ 優一\n",
      "1 1 俊輔 ｼｭﾝｽｹ 俊輔\n",
      "2 2 千佳 ﾁｶ 千佳\n",
      "1 1 俊樹 ﾄｼｷ 俊樹\n",
      "1 1 翔太 ｼｮｳﾀ 翔太\n",
      "2 2 香奈 ｶﾅ 香奈\n",
      "1 1 雄也 ﾕｳﾔ 雄也\n",
      "2 2 真奈 ﾏﾅ 真奈\n",
      "2 2 彩華 ｱﾔｶ 彩華\n",
      "1 1 大夢 ﾋﾛﾑ 大夢\n",
      "1 1 翔一 ｼｮｳｲﾁ 翔一\n",
      "1 1 悠介 ﾕｳｽｹ 悠介\n",
      "2 2 菫 ｽﾐﾚ 菫\n",
      "2 2 桃香 ﾓﾓｶ 桃香\n",
      "1 1 裕二 ﾕｳｼﾞ 裕二\n",
      "2 2 理奈 ﾘﾅ 理奈\n",
      "1 1 和樹 ｶｽﾞｷ 和樹\n",
      "2 2 菜美 ﾅﾐ 菜美\n",
      "1 1 健一郎 ｹﾝｲﾁﾛｳ 健一郎\n",
      "2 2 節子 ｾﾂｺ 節子\n",
      "1 1 勇介 ﾕｳｽｹ 勇介\n",
      "1 1 尚輝 ﾅｵｷ 尚輝\n",
      "1 1 裕樹 ﾕｳｷ 裕樹\n",
      "1 1 雅人 ﾏｻﾄ 雅人\n",
      "1 1 宏幸 ﾋﾛﾕｷ 宏幸\n",
      "2 2 貴美子 ｷﾐｺ 貴美子\n",
      "2 2 瞳 ﾋﾄﾐ 瞳\n",
      "1 2 瑞樹 ﾐｽﾞｷ 瑞樹 !\n",
      "1 1 涼平 ﾘｮｳﾍｲ 涼平\n",
      "1 1 諭 ｻﾄｼ 諭\n",
      "1 1 樹 ﾀﾂｷ 樹\n",
      "1 1 大樹 ﾋﾛｷ 大樹\n",
      "1 1 裕介 ﾕｳｽｹ 裕介\n",
      "1 1 智貴 ﾄﾓｷ 智貴\n",
      "1 1 勇 ｲｻﾑ 勇\n",
      "2 2 なつみ ﾅﾂﾐ なつみ\n",
      "2 2 紗希 ｻｷ 紗希\n",
      "1 1 佑樹 ﾕｳｷ 佑樹\n",
      "1 1 佑介 ﾕｳｽｹ 佑介\n",
      "2 2 久子 ﾋｻｺ 久子\n",
      "2 2 のぞみ ﾉｿﾞﾐ のぞみ\n",
      "2 2 由美 ﾕﾐ 由美\n",
      "2 2 真弓 ﾏﾕﾐ 真弓\n",
      "1 1 蒼太 ｿｳﾀ 蒼太\n",
      "2 2 美由紀 ﾐﾕｷ 美由紀\n",
      "2 2 理紗 ﾘｻ 理紗\n",
      "2 2 里紗 ﾘｻ 里紗\n",
      "1 1 茂 ｼｹﾞﾙ 茂\n",
      "2 2 郁美 ｲｸﾐ 郁美\n",
      "1 1 優人 ﾕｳﾄ 優人\n",
      "2 2 智子 ﾄﾓｺ 智子\n",
      "1 1 和彦 ｶｽﾞﾋｺ 和彦\n",
      "1 1 大智 ﾀﾞｲﾁ 大智\n",
      "1 1 俊太 ｼｭﾝﾀ 俊太\n",
      "1 1 憲司 ｹﾝｼﾞ 憲司\n",
      "1 1 祐希 ﾕｳｷ 祐希\n",
      "1 1 慎 ｼﾝ 慎\n",
      "2 2 春香 ﾊﾙｶ 春香\n",
      "2 2 愛理 ｴﾘ 愛理\n",
      "2 2 桂子 ｹｲｺ 桂子\n",
      "1 1 武志 ﾀｹｼ 武志\n",
      "2 2 有紀 ﾕｷ 有紀\n",
      "2 2 佳奈 ｶﾅ 佳奈\n",
      "1 1 史也 ﾌﾐﾔ 史也\n",
      "1 1 弘明 ﾋﾛｱｷ 弘明\n",
      "2 2 莉子 ﾘｺ 莉子\n",
      "1 1 亮太 ﾘｮｳﾀ 亮太\n",
      "2 2 栞奈 ｶﾝﾅ 栞奈\n",
      "2 2 こころ ｺｺﾛ こころ\n",
      "1 1 凌平 ﾘｮｳﾍｲ 凌平\n",
      "1 1 康介 ｺｳｽｹ 康介\n",
      "2 2 朱里 ｱｶﾘ 朱里\n",
      "1 2 海 ｶｲ 海 !\n",
      "1 1 祥平 ｼｮｳﾍｲ 祥平\n",
      "1 1 大雅 ﾀｲｶﾞ 大雅\n",
      "1 1 智史 ｻﾄｼ 智史\n",
      "2 2 千里 ﾁｻﾄ 千里\n",
      "2 2 しおり ｼｵﾘ しおり\n",
      "2 2 理絵 ﾘｴ 理絵\n",
      "1 1 将吾 ｼｮｳｺﾞ 将吾\n",
      "2 2 真菜 ﾏﾅ 真菜\n",
      "1 1 尚希 ﾅｵｷ 尚希\n",
      "1 1 幸雄 ﾕｷｵ 幸雄\n",
      "1 1 俊哉 ﾄｼﾔ 俊哉\n",
      "1 1 康平 ｺｳﾍｲ 康平\n",
      "1 1 良介 ﾘｮｳｽｹ 良介\n",
      "1 1 武 ﾀｹﾙ 武\n",
      "2 2 良美 ﾖｼﾐ 良美\n"
     ]
    }
   ],
   "source": [
    "# テストデータの判定結果を具体的に眺めてみる。\n",
    "pred = clf.predict(X_test_vec)\n",
    "for i in range(len(X_test)):\n",
    "    if y_test.iloc[i] == pred[i]:\n",
    "        print(y_test.iloc[i], pred[i], X_test.iloc[i,0], X_test.iloc[i,1], X_test.iloc[i,0])\n",
    "    else:\n",
    "        print(y_test.iloc[i], pred[i], X_test.iloc[i,0], X_test.iloc[i,1], X_test.iloc[i,0], '!')"
   ]
  }
 ],
 "metadata": {
  "kernelspec": {
   "display_name": "Python 3",
   "language": "python",
   "name": "python3"
  },
  "language_info": {
   "codemirror_mode": {
    "name": "ipython",
    "version": 3
   },
   "file_extension": ".py",
   "mimetype": "text/x-python",
   "name": "python",
   "nbconvert_exporter": "python",
   "pygments_lexer": "ipython3",
   "version": "3.8.5"
  }
 },
 "nbformat": 4,
 "nbformat_minor": 2
}
