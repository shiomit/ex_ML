{
 "cells": [
  {
   "cell_type": "markdown",
   "metadata": {
    "collapsed": true
   },
   "source": [
    "# K-fold cross-validation"
   ]
  },
  {
   "cell_type": "markdown",
   "metadata": {},
   "source": [
    "K分割クロスバリデーション  \n",
    "データをK個に分割し、K-1個で訓練をして残りの1個でテストする。 \n",
    "それをK回繰り返す。"
   ]
  },
  {
   "cell_type": "code",
   "execution_count": 46,
   "metadata": {},
   "outputs": [],
   "source": [
    "import pandas as pd"
   ]
  },
  {
   "cell_type": "code",
   "execution_count": 47,
   "metadata": {},
   "outputs": [],
   "source": [
    "df = pd.read_csv('iris.data', header=None, names=['sepal_length', 'sepal_width',\n",
    "                                                  'petal_length', 'petal_width', 'class'])"
   ]
  },
  {
   "cell_type": "code",
   "execution_count": 48,
   "metadata": {},
   "outputs": [],
   "source": [
    "X = df.iloc[:,:-1]"
   ]
  },
  {
   "cell_type": "code",
   "execution_count": 49,
   "metadata": {},
   "outputs": [],
   "source": [
    "y = df.iloc[:,-1].replace({'Iris-setosa':0, 'Iris-versicolor':1, 'Iris-virginica':2})"
   ]
  },
  {
   "cell_type": "code",
   "execution_count": 50,
   "metadata": {},
   "outputs": [],
   "source": [
    "from sklearn import linear_model\n",
    "clf = linear_model.LogisticRegression(max_iter=10000)"
   ]
  },
  {
   "cell_type": "code",
   "execution_count": 51,
   "metadata": {},
   "outputs": [],
   "source": [
    "random_state = 1 # 乱数のseed\n",
    "k = 10 # 分割数"
   ]
  },
  {
   "cell_type": "code",
   "execution_count": 52,
   "metadata": {},
   "outputs": [],
   "source": [
    "import numpy as np # 平均を計算するため"
   ]
  },
  {
   "cell_type": "markdown",
   "metadata": {},
   "source": [
    "## 層化（Stratified）抽出なしの場合"
   ]
  },
  {
   "cell_type": "code",
   "execution_count": 53,
   "metadata": {},
   "outputs": [],
   "source": [
    "from sklearn.model_selection import KFold\n",
    "ss = KFold(n_splits=k, shuffle=True, random_state=random_state)"
   ]
  },
  {
   "cell_type": "code",
   "execution_count": 54,
   "metadata": {},
   "outputs": [
    {
     "name": "stdout",
     "output_type": "stream",
     "text": [
      "1    6\n",
      "0    5\n",
      "2    4\n",
      "Name: class, dtype: int64\n",
      "1.0\n",
      "1    7\n",
      "0    6\n",
      "2    2\n",
      "Name: class, dtype: int64\n",
      "0.9333333333333333\n",
      "2    7\n",
      "1    5\n",
      "0    3\n",
      "Name: class, dtype: int64\n",
      "0.9333333333333333\n",
      "2    7\n",
      "0    5\n",
      "1    3\n",
      "Name: class, dtype: int64\n",
      "1.0\n",
      "2    7\n",
      "0    5\n",
      "1    3\n",
      "Name: class, dtype: int64\n",
      "0.9333333333333333\n",
      "0    6\n",
      "2    5\n",
      "1    4\n",
      "Name: class, dtype: int64\n",
      "0.9333333333333333\n",
      "1    7\n",
      "2    5\n",
      "0    3\n",
      "Name: class, dtype: int64\n",
      "1.0\n",
      "0    7\n",
      "2    6\n",
      "1    2\n",
      "Name: class, dtype: int64\n",
      "0.8666666666666667\n",
      "1    7\n",
      "0    7\n",
      "2    1\n",
      "Name: class, dtype: int64\n",
      "1.0\n",
      "2    6\n",
      "1    6\n",
      "0    3\n",
      "Name: class, dtype: int64\n",
      "0.9333333333333333\n",
      "平均： 0.9533333333333334\n"
     ]
    }
   ],
   "source": [
    "scores = []\n",
    "for train_index, test_index in ss.split(X, y):\n",
    "    X_train, X_test = X.iloc[train_index], X.iloc[test_index]\n",
    "    y_train, y_test = y.iloc[train_index], y.iloc[test_index]\n",
    "    print(y_test.value_counts())\n",
    "    clf.fit(X_train, y_train)\n",
    "    score = clf.score(X_test, y_test)\n",
    "    print(score)\n",
    "    scores.append(score)\n",
    "print('平均：', np.mean(scores))"
   ]
  },
  {
   "cell_type": "markdown",
   "metadata": {
    "collapsed": true
   },
   "source": [
    "## 層化（Stratified）抽出ありの場合"
   ]
  },
  {
   "cell_type": "code",
   "execution_count": 55,
   "metadata": {},
   "outputs": [],
   "source": [
    "from sklearn.model_selection import StratifiedKFold\n",
    "ss = StratifiedKFold(n_splits=k, shuffle=True, random_state=random_state)"
   ]
  },
  {
   "cell_type": "code",
   "execution_count": 56,
   "metadata": {},
   "outputs": [
    {
     "name": "stdout",
     "output_type": "stream",
     "text": [
      "2    5\n",
      "1    5\n",
      "0    5\n",
      "Name: class, dtype: int64\n",
      "1.0\n",
      "2    5\n",
      "1    5\n",
      "0    5\n",
      "Name: class, dtype: int64\n",
      "0.9333333333333333\n",
      "2    5\n",
      "1    5\n",
      "0    5\n",
      "Name: class, dtype: int64\n",
      "1.0\n",
      "2    5\n",
      "1    5\n",
      "0    5\n",
      "Name: class, dtype: int64\n",
      "1.0\n",
      "2    5\n",
      "1    5\n",
      "0    5\n",
      "Name: class, dtype: int64\n",
      "0.9333333333333333\n",
      "2    5\n",
      "1    5\n",
      "0    5\n",
      "Name: class, dtype: int64\n",
      "0.9333333333333333\n",
      "2    5\n",
      "1    5\n",
      "0    5\n",
      "Name: class, dtype: int64\n",
      "1.0\n",
      "2    5\n",
      "1    5\n",
      "0    5\n",
      "Name: class, dtype: int64\n",
      "1.0\n",
      "2    5\n",
      "1    5\n",
      "0    5\n",
      "Name: class, dtype: int64\n",
      "0.8666666666666667\n",
      "2    5\n",
      "1    5\n",
      "0    5\n",
      "Name: class, dtype: int64\n",
      "0.9333333333333333\n",
      "平均： 0.9600000000000002\n"
     ]
    }
   ],
   "source": [
    "scores = []\n",
    "for train_index, test_index in ss.split(X, y):\n",
    "    X_train, X_test = X.iloc[train_index], X.iloc[test_index]\n",
    "    y_train, y_test = y.iloc[train_index], y.iloc[test_index]\n",
    "    print(y_test.value_counts())\n",
    "    clf.fit(X_train, y_train)\n",
    "    score = clf.score(X_test, y_test)\n",
    "    print(score)\n",
    "    scores.append(score)\n",
    "print('平均：', np.mean(scores))"
   ]
  },
  {
   "cell_type": "markdown",
   "metadata": {},
   "source": [
    "## cross_val_scoreは層化抽出ありのクロスバリデーションをやってくれる"
   ]
  },
  {
   "cell_type": "code",
   "execution_count": 57,
   "metadata": {},
   "outputs": [],
   "source": [
    "from sklearn.model_selection import cross_val_score"
   ]
  },
  {
   "cell_type": "code",
   "execution_count": 58,
   "metadata": {},
   "outputs": [],
   "source": [
    "scores = cross_val_score(clf, X, y, cv=k)"
   ]
  },
  {
   "cell_type": "code",
   "execution_count": 59,
   "metadata": {},
   "outputs": [
    {
     "data": {
      "text/plain": [
       "array([1.        , 0.93333333, 1.        , 1.        , 0.93333333,\n",
       "       0.93333333, 0.93333333, 1.        , 1.        , 1.        ])"
      ]
     },
     "execution_count": 59,
     "metadata": {},
     "output_type": "execute_result"
    }
   ],
   "source": [
    "scores"
   ]
  },
  {
   "cell_type": "code",
   "execution_count": 60,
   "metadata": {},
   "outputs": [
    {
     "data": {
      "text/plain": [
       "0.9733333333333334"
      ]
     },
     "execution_count": 60,
     "metadata": {},
     "output_type": "execute_result"
    }
   ],
   "source": [
    "np.mean(scores)"
   ]
  }
 ],
 "metadata": {
  "kernelspec": {
   "display_name": "Python 3",
   "language": "python",
   "name": "python3"
  },
  "language_info": {
   "codemirror_mode": {
    "name": "ipython",
    "version": 3
   },
   "file_extension": ".py",
   "mimetype": "text/x-python",
   "name": "python",
   "nbconvert_exporter": "python",
   "pygments_lexer": "ipython3",
   "version": "3.8.5"
  }
 },
 "nbformat": 4,
 "nbformat_minor": 2
}
